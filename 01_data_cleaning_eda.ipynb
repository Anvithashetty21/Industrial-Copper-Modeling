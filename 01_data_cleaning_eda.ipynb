{
 "cells": [
  {
   "cell_type": "code",
   "execution_count": 1,
   "id": "2ab4b8e8",
   "metadata": {},
   "outputs": [
    {
     "data": {
      "application/vnd.microsoft.datawrangler.viewer.v0+json": {
       "columns": [
        {
         "name": "index",
         "rawType": "int64",
         "type": "integer"
        },
        {
         "name": "id",
         "rawType": "object",
         "type": "string"
        },
        {
         "name": "item_date",
         "rawType": "float64",
         "type": "float"
        },
        {
         "name": "quantity tons",
         "rawType": "object",
         "type": "unknown"
        },
        {
         "name": "customer",
         "rawType": "float64",
         "type": "float"
        },
        {
         "name": "country",
         "rawType": "float64",
         "type": "float"
        },
        {
         "name": "status",
         "rawType": "object",
         "type": "string"
        },
        {
         "name": "item type",
         "rawType": "object",
         "type": "string"
        },
        {
         "name": "application",
         "rawType": "float64",
         "type": "float"
        },
        {
         "name": "thickness",
         "rawType": "float64",
         "type": "float"
        },
        {
         "name": "width",
         "rawType": "float64",
         "type": "float"
        },
        {
         "name": "material_ref",
         "rawType": "object",
         "type": "string"
        },
        {
         "name": "product_ref",
         "rawType": "int64",
         "type": "integer"
        },
        {
         "name": "delivery date",
         "rawType": "float64",
         "type": "float"
        },
        {
         "name": "selling_price",
         "rawType": "float64",
         "type": "float"
        }
       ],
       "ref": "559f7db3-32d4-4305-9bf6-d369d9aa0f63",
       "rows": [
        [
         "0",
         "EC06F063-9DF0-440C-8764-0B0C05A4F6AE",
         "20210401.0",
         "54.15113861692779",
         "30156308.0",
         "28.0",
         "Won",
         "W",
         "10.0",
         "2.0",
         "1500.0",
         "DEQ1 S460MC",
         "1670798778",
         "20210701.0",
         "854.0"
        ],
        [
         "1",
         "4E5F4B3D-DDDF-499D-AFDE-A3227EC49425",
         "20210401.0",
         "768.0248392021871",
         "30202938.0",
         "25.0",
         "Won",
         "W",
         "41.0",
         "0.8",
         "1210.0",
         "0000000000000000000000000000000000104991",
         "1668701718",
         "20210401.0",
         "1047.0"
        ],
        [
         "2",
         "E140FF1B-2407-4C02-A0DD-780A093B1158",
         "20210401.0",
         "386.1279489091378",
         "30153963.0",
         "30.0",
         "Won",
         "WI",
         "28.0",
         "0.38",
         "952.0",
         "S0380700",
         "628377",
         "20210101.0",
         "644.33"
        ],
        [
         "3",
         "F8D507A0-9C62-4EFE-831E-33E1DA53BB50",
         "20210401.0",
         "202.41106540948442",
         "30349574.0",
         "32.0",
         "Won",
         "S",
         "59.0",
         "2.3",
         "1317.0",
         "DX51D+ZM310MAO 2.3X1317",
         "1668701718",
         "20210101.0",
         "768.0"
        ],
        [
         "4",
         "4E1C4E78-152B-430A-8094-ADD889C9D0AD",
         "20210401.0",
         "785.5262615733325",
         "30211560.0",
         "28.0",
         "Won",
         "W",
         "10.0",
         "4.0",
         "2000.0",
         "2_S275JR+AR-CL1",
         "640665",
         "20210301.0",
         "577.0"
        ]
       ],
       "shape": {
        "columns": 14,
        "rows": 5
       }
      },
      "text/html": [
       "<div>\n",
       "<style scoped>\n",
       "    .dataframe tbody tr th:only-of-type {\n",
       "        vertical-align: middle;\n",
       "    }\n",
       "\n",
       "    .dataframe tbody tr th {\n",
       "        vertical-align: top;\n",
       "    }\n",
       "\n",
       "    .dataframe thead th {\n",
       "        text-align: right;\n",
       "    }\n",
       "</style>\n",
       "<table border=\"1\" class=\"dataframe\">\n",
       "  <thead>\n",
       "    <tr style=\"text-align: right;\">\n",
       "      <th></th>\n",
       "      <th>id</th>\n",
       "      <th>item_date</th>\n",
       "      <th>quantity tons</th>\n",
       "      <th>customer</th>\n",
       "      <th>country</th>\n",
       "      <th>status</th>\n",
       "      <th>item type</th>\n",
       "      <th>application</th>\n",
       "      <th>thickness</th>\n",
       "      <th>width</th>\n",
       "      <th>material_ref</th>\n",
       "      <th>product_ref</th>\n",
       "      <th>delivery date</th>\n",
       "      <th>selling_price</th>\n",
       "    </tr>\n",
       "  </thead>\n",
       "  <tbody>\n",
       "    <tr>\n",
       "      <th>0</th>\n",
       "      <td>EC06F063-9DF0-440C-8764-0B0C05A4F6AE</td>\n",
       "      <td>20210401.0</td>\n",
       "      <td>54.151139</td>\n",
       "      <td>30156308.0</td>\n",
       "      <td>28.0</td>\n",
       "      <td>Won</td>\n",
       "      <td>W</td>\n",
       "      <td>10.0</td>\n",
       "      <td>2.00</td>\n",
       "      <td>1500.0</td>\n",
       "      <td>DEQ1 S460MC</td>\n",
       "      <td>1670798778</td>\n",
       "      <td>20210701.0</td>\n",
       "      <td>854.00</td>\n",
       "    </tr>\n",
       "    <tr>\n",
       "      <th>1</th>\n",
       "      <td>4E5F4B3D-DDDF-499D-AFDE-A3227EC49425</td>\n",
       "      <td>20210401.0</td>\n",
       "      <td>768.024839</td>\n",
       "      <td>30202938.0</td>\n",
       "      <td>25.0</td>\n",
       "      <td>Won</td>\n",
       "      <td>W</td>\n",
       "      <td>41.0</td>\n",
       "      <td>0.80</td>\n",
       "      <td>1210.0</td>\n",
       "      <td>0000000000000000000000000000000000104991</td>\n",
       "      <td>1668701718</td>\n",
       "      <td>20210401.0</td>\n",
       "      <td>1047.00</td>\n",
       "    </tr>\n",
       "    <tr>\n",
       "      <th>2</th>\n",
       "      <td>E140FF1B-2407-4C02-A0DD-780A093B1158</td>\n",
       "      <td>20210401.0</td>\n",
       "      <td>386.127949</td>\n",
       "      <td>30153963.0</td>\n",
       "      <td>30.0</td>\n",
       "      <td>Won</td>\n",
       "      <td>WI</td>\n",
       "      <td>28.0</td>\n",
       "      <td>0.38</td>\n",
       "      <td>952.0</td>\n",
       "      <td>S0380700</td>\n",
       "      <td>628377</td>\n",
       "      <td>20210101.0</td>\n",
       "      <td>644.33</td>\n",
       "    </tr>\n",
       "    <tr>\n",
       "      <th>3</th>\n",
       "      <td>F8D507A0-9C62-4EFE-831E-33E1DA53BB50</td>\n",
       "      <td>20210401.0</td>\n",
       "      <td>202.411065</td>\n",
       "      <td>30349574.0</td>\n",
       "      <td>32.0</td>\n",
       "      <td>Won</td>\n",
       "      <td>S</td>\n",
       "      <td>59.0</td>\n",
       "      <td>2.30</td>\n",
       "      <td>1317.0</td>\n",
       "      <td>DX51D+ZM310MAO 2.3X1317</td>\n",
       "      <td>1668701718</td>\n",
       "      <td>20210101.0</td>\n",
       "      <td>768.00</td>\n",
       "    </tr>\n",
       "    <tr>\n",
       "      <th>4</th>\n",
       "      <td>4E1C4E78-152B-430A-8094-ADD889C9D0AD</td>\n",
       "      <td>20210401.0</td>\n",
       "      <td>785.526262</td>\n",
       "      <td>30211560.0</td>\n",
       "      <td>28.0</td>\n",
       "      <td>Won</td>\n",
       "      <td>W</td>\n",
       "      <td>10.0</td>\n",
       "      <td>4.00</td>\n",
       "      <td>2000.0</td>\n",
       "      <td>2_S275JR+AR-CL1</td>\n",
       "      <td>640665</td>\n",
       "      <td>20210301.0</td>\n",
       "      <td>577.00</td>\n",
       "    </tr>\n",
       "  </tbody>\n",
       "</table>\n",
       "</div>"
      ],
      "text/plain": [
       "                                     id   item_date quantity tons    customer  \\\n",
       "0  EC06F063-9DF0-440C-8764-0B0C05A4F6AE  20210401.0     54.151139  30156308.0   \n",
       "1  4E5F4B3D-DDDF-499D-AFDE-A3227EC49425  20210401.0    768.024839  30202938.0   \n",
       "2  E140FF1B-2407-4C02-A0DD-780A093B1158  20210401.0    386.127949  30153963.0   \n",
       "3  F8D507A0-9C62-4EFE-831E-33E1DA53BB50  20210401.0    202.411065  30349574.0   \n",
       "4  4E1C4E78-152B-430A-8094-ADD889C9D0AD  20210401.0    785.526262  30211560.0   \n",
       "\n",
       "   country status item type  application  thickness   width  \\\n",
       "0     28.0    Won         W         10.0       2.00  1500.0   \n",
       "1     25.0    Won         W         41.0       0.80  1210.0   \n",
       "2     30.0    Won        WI         28.0       0.38   952.0   \n",
       "3     32.0    Won         S         59.0       2.30  1317.0   \n",
       "4     28.0    Won         W         10.0       4.00  2000.0   \n",
       "\n",
       "                               material_ref  product_ref  delivery date  \\\n",
       "0                               DEQ1 S460MC   1670798778     20210701.0   \n",
       "1  0000000000000000000000000000000000104991   1668701718     20210401.0   \n",
       "2                                  S0380700       628377     20210101.0   \n",
       "3                   DX51D+ZM310MAO 2.3X1317   1668701718     20210101.0   \n",
       "4                           2_S275JR+AR-CL1       640665     20210301.0   \n",
       "\n",
       "   selling_price  \n",
       "0         854.00  \n",
       "1        1047.00  \n",
       "2         644.33  \n",
       "3         768.00  \n",
       "4         577.00  "
      ]
     },
     "execution_count": 1,
     "metadata": {},
     "output_type": "execute_result"
    }
   ],
   "source": [
    "import pandas as pd\n",
    "\n",
    "# Load the Excel sheet named 'Result 1'\n",
    "df = pd.read_excel('data/Copper_Set.xlsx', sheet_name='Result 1')\n",
    "\n",
    "# Display the first few rows\n",
    "df.head()\n",
    "\n",
    "\n",
    "\n"
   ]
  },
  {
   "cell_type": "code",
   "execution_count": 2,
   "id": "c6002885",
   "metadata": {},
   "outputs": [
    {
     "name": "stdout",
     "output_type": "stream",
     "text": [
      "id → 181671 unique values\n",
      "item_date → 252 unique values\n",
      "quantity tons → 181673 unique values\n",
      "customer → 1169 unique values\n",
      "country → 17 unique values\n",
      "status → 9 unique values\n",
      "item type → 7 unique values\n",
      "application → 30 unique values\n",
      "thickness → 594 unique values\n",
      "width → 1386 unique values\n",
      "material_ref → 16563 unique values\n",
      "product_ref → 33 unique values\n",
      "delivery date → 28 unique values\n",
      "selling_price → 9795 unique values\n"
     ]
    }
   ],
   "source": [
    "#Unique values count for each column:\n",
    "\n",
    "for col in df.columns:\n",
    "    print(f\"{col} → {df[col].nunique()} unique values\")\n"
   ]
  },
  {
   "cell_type": "code",
   "execution_count": 3,
   "id": "fc67ca52",
   "metadata": {},
   "outputs": [
    {
     "name": "stdout",
     "output_type": "stream",
     "text": [
      "\n",
      "Missing values:\n",
      "\n",
      "id                   2\n",
      "item_date            1\n",
      "quantity tons        0\n",
      "customer             1\n",
      "country             28\n",
      "status               2\n",
      "item type            0\n",
      "application         24\n",
      "thickness            1\n",
      "width                0\n",
      "material_ref     77919\n",
      "product_ref          0\n",
      "delivery date        1\n",
      "selling_price        1\n",
      "dtype: int64\n"
     ]
    }
   ],
   "source": [
    "#Check for missing values:\n",
    "\n",
    "print(\"\\nMissing values:\\n\")\n",
    "print(df.isnull().sum())\n"
   ]
  },
  {
   "cell_type": "code",
   "execution_count": 4,
   "id": "7d0c8ead",
   "metadata": {},
   "outputs": [
    {
     "name": "stdout",
     "output_type": "stream",
     "text": [
      "\n",
      "Data Info:\n",
      "\n",
      "<class 'pandas.core.frame.DataFrame'>\n",
      "RangeIndex: 181673 entries, 0 to 181672\n",
      "Data columns (total 14 columns):\n",
      " #   Column         Non-Null Count   Dtype  \n",
      "---  ------         --------------   -----  \n",
      " 0   id             181671 non-null  object \n",
      " 1   item_date      181672 non-null  float64\n",
      " 2   quantity tons  181673 non-null  object \n",
      " 3   customer       181672 non-null  float64\n",
      " 4   country        181645 non-null  float64\n",
      " 5   status         181671 non-null  object \n",
      " 6   item type      181673 non-null  object \n",
      " 7   application    181649 non-null  float64\n",
      " 8   thickness      181672 non-null  float64\n",
      " 9   width          181673 non-null  float64\n",
      " 10  material_ref   103754 non-null  object \n",
      " 11  product_ref    181673 non-null  int64  \n",
      " 12  delivery date  181672 non-null  float64\n",
      " 13  selling_price  181672 non-null  float64\n",
      "dtypes: float64(8), int64(1), object(5)\n",
      "memory usage: 19.4+ MB\n"
     ]
    }
   ],
   "source": [
    "#Data types, non-null counts, and memory usage:\n",
    "\n",
    "print(\"\\nData Info:\\n\")\n",
    "df.info()\n"
   ]
  },
  {
   "cell_type": "code",
   "execution_count": 5,
   "id": "d186b421",
   "metadata": {},
   "outputs": [
    {
     "name": "stdout",
     "output_type": "stream",
     "text": [
      "\n",
      "Descriptive Statistics:\n",
      "\n",
      "          item_date      customer        country    application  \\\n",
      "count  1.816720e+05  1.816720e+05  181645.000000  181649.000000   \n",
      "mean   2.020459e+07  3.051221e+07      44.893022      25.615809   \n",
      "std    4.551119e+03  2.433382e+07      24.404214      17.754175   \n",
      "min    1.995000e+07  1.245800e+04      25.000000       2.000000   \n",
      "25%    2.020093e+07  3.019688e+07      26.000000      10.000000   \n",
      "50%    2.020113e+07  3.020524e+07      30.000000      15.000000   \n",
      "75%    2.021020e+07  3.028042e+07      78.000000      41.000000   \n",
      "max    2.021040e+07  2.147484e+09     113.000000      99.000000   \n",
      "\n",
      "           thickness          width   product_ref  delivery date  \\\n",
      "count  181672.000000  181673.000000  1.816730e+05   1.816720e+05   \n",
      "mean        2.564827    1295.286724  4.739679e+08   2.020738e+07   \n",
      "std         6.572321     261.631754  7.175101e+08   2.411059e+04   \n",
      "min         0.180000       1.000000  6.117280e+05   2.019040e+07   \n",
      "25%         0.700000    1180.000000  6.119930e+05   2.020110e+07   \n",
      "50%         1.500000    1250.000000  6.406650e+05   2.021010e+07   \n",
      "75%         3.000000    1500.000000  1.332077e+09   2.021040e+07   \n",
      "max      2500.000000    2990.000000  1.722208e+09   3.031010e+07   \n",
      "\n",
      "       selling_price  \n",
      "count   1.816720e+05  \n",
      "mean    1.918036e+03  \n",
      "std     3.317956e+05  \n",
      "min    -1.160000e+03  \n",
      "25%     6.690000e+02  \n",
      "50%     8.120000e+02  \n",
      "75%     9.530000e+02  \n",
      "max     1.000010e+08  \n"
     ]
    }
   ],
   "source": [
    "#Summary statistics (numerical columns only):\n",
    "\n",
    "print(\"\\nDescriptive Statistics:\\n\")\n",
    "print(df.describe())\n"
   ]
  },
  {
   "cell_type": "code",
   "execution_count": 6,
   "id": "1dbc68f1",
   "metadata": {},
   "outputs": [],
   "source": [
    "# Convert 'quantity tons' from object to float\n",
    "df['quantity tons'] = pd.to_numeric(df['quantity tons'], errors='coerce')\n",
    "\n",
    "# Drop rows where 'id' is null (very few rows)\n",
    "df = df[df['id'].notna()]\n",
    "\n",
    "#Fill 'customer' (1 missing) and 'status' (2 missing) with mode\n",
    "\n",
    "df.loc[df['customer'].isna(), 'customer'] = df['customer'].mode()[0]\n",
    "df.loc[df['status'].isna(), 'status'] = df['status'].mode()[0]\n",
    "\n",
    "\n",
    "# Handling 'status'\n",
    "df['status'] = df['status'].fillna(df['status'].mode()[0])\n",
    "\n",
    "#  Convert item_date and delivery date to datetime\n",
    "for date_col in ['item_date', 'delivery date']:\n",
    "    df[date_col] = pd.to_datetime(df[date_col], errors='coerce', format='%Y%m%d')\n",
    "\n",
    "# Fill missing values properly avoiding chained assignment\n",
    "# Use .loc to safely set values\n",
    "\n",
    "# 'quantity tons' was object, already converted earlier to float\n",
    "# Filling missing values in numeric columns\n",
    "numeric_fill_cols = {\n",
    "    'selling_price': df['selling_price'].median(),\n",
    "    'thickness': df['thickness'].median(),\n",
    "    'item_date': df['item_date'].mode()[0],\n",
    "    'delivery date': df['delivery date'].mode()[0],\n",
    "    'application': df['application'].mode()[0],\n",
    "    'country': df['country'].mode()[0],\n",
    "    'quantity tons': df['quantity tons'].median()\n",
    "}\n",
    "\n",
    "for col, val in numeric_fill_cols.items():\n",
    "    df.loc[df[col].isnull(), col] = val"
   ]
  },
  {
   "cell_type": "code",
   "execution_count": 7,
   "id": "a062778a",
   "metadata": {},
   "outputs": [
    {
     "name": "stdout",
     "output_type": "stream",
     "text": [
      "<class 'pandas.core.frame.DataFrame'>\n",
      "RangeIndex: 181671 entries, 0 to 181670\n",
      "Data columns (total 14 columns):\n",
      " #   Column         Non-Null Count   Dtype         \n",
      "---  ------         --------------   -----         \n",
      " 0   id             181671 non-null  object        \n",
      " 1   item_date      181671 non-null  datetime64[ns]\n",
      " 2   quantity tons  181671 non-null  float64       \n",
      " 3   customer       181671 non-null  float64       \n",
      " 4   country        181671 non-null  float64       \n",
      " 5   status         181671 non-null  object        \n",
      " 6   item type      181671 non-null  object        \n",
      " 7   application    181671 non-null  float64       \n",
      " 8   thickness      181671 non-null  float64       \n",
      " 9   width          181671 non-null  float64       \n",
      " 10  material_ref   103753 non-null  object        \n",
      " 11  product_ref    181671 non-null  int64         \n",
      " 12  delivery date  181671 non-null  datetime64[ns]\n",
      " 13  selling_price  181671 non-null  float64       \n",
      "dtypes: datetime64[ns](2), float64(7), int64(1), object(4)\n",
      "memory usage: 19.4+ MB\n"
     ]
    }
   ],
   "source": [
    "\n",
    "# Final data check\n",
    "df.reset_index(drop=True, inplace=True)\n",
    "df.info()"
   ]
  },
  {
   "cell_type": "code",
   "execution_count": 8,
   "id": "189875a1",
   "metadata": {},
   "outputs": [
    {
     "name": "stdout",
     "output_type": "stream",
     "text": [
      "\n",
      "Final null counts:\n",
      " id                   0\n",
      "item_date            0\n",
      "quantity tons        0\n",
      "customer             0\n",
      "country              0\n",
      "status               0\n",
      "item type            0\n",
      "application          0\n",
      "thickness            0\n",
      "width                0\n",
      "material_ref     77918\n",
      "product_ref          0\n",
      "delivery date        0\n",
      "selling_price        0\n",
      "dtype: int64\n",
      "\n",
      "Updated Data Types:\n",
      "\n",
      "<class 'pandas.core.frame.DataFrame'>\n",
      "RangeIndex: 181671 entries, 0 to 181670\n",
      "Data columns (total 14 columns):\n",
      " #   Column         Non-Null Count   Dtype         \n",
      "---  ------         --------------   -----         \n",
      " 0   id             181671 non-null  object        \n",
      " 1   item_date      181671 non-null  datetime64[ns]\n",
      " 2   quantity tons  181671 non-null  float64       \n",
      " 3   customer       181671 non-null  float64       \n",
      " 4   country        181671 non-null  float64       \n",
      " 5   status         181671 non-null  object        \n",
      " 6   item type      181671 non-null  object        \n",
      " 7   application    181671 non-null  float64       \n",
      " 8   thickness      181671 non-null  float64       \n",
      " 9   width          181671 non-null  float64       \n",
      " 10  material_ref   103753 non-null  object        \n",
      " 11  product_ref    181671 non-null  int64         \n",
      " 12  delivery date  181671 non-null  datetime64[ns]\n",
      " 13  selling_price  181671 non-null  float64       \n",
      "dtypes: datetime64[ns](2), float64(7), int64(1), object(4)\n",
      "memory usage: 19.4+ MB\n"
     ]
    }
   ],
   "source": [
    "# Double-check cleanup\n",
    "print(\"\\nFinal null counts:\\n\", df.isnull().sum())\n",
    "print(\"\\nUpdated Data Types:\\n\")\n",
    "df.info()\n"
   ]
  },
  {
   "cell_type": "markdown",
   "id": "2f6be97a",
   "metadata": {},
   "source": [
    "Exploratory Data Analysis (EDA) "
   ]
  },
  {
   "cell_type": "code",
   "execution_count": 9,
   "id": "447d84bf",
   "metadata": {},
   "outputs": [
    {
     "name": "stdout",
     "output_type": "stream",
     "text": [
      "Shape of data: (181671, 14)\n",
      "\n",
      "Column names:\n",
      " ['id', 'item_date', 'quantity tons', 'customer', 'country', 'status', 'item type', 'application', 'thickness', 'width', 'material_ref', 'product_ref', 'delivery date', 'selling_price']\n",
      "\n",
      "Summary Statistics:\n",
      "\n",
      "                                          id                      item_date  \\\n",
      "count                                 181671                         181671   \n",
      "unique                                181671                            NaN   \n",
      "top     EC06F063-9DF0-440C-8764-0B0C05A4F6AE                            NaN   \n",
      "freq                                       1                            NaN   \n",
      "mean                                     NaN  2020-11-26 22:56:12.492032256   \n",
      "min                                      NaN            2020-07-02 00:00:00   \n",
      "25%                                      NaN            2020-09-29 00:00:00   \n",
      "50%                                      NaN            2020-11-30 00:00:00   \n",
      "75%                                      NaN            2021-02-03 00:00:00   \n",
      "max                                      NaN            2021-04-01 00:00:00   \n",
      "std                                      NaN                            NaN   \n",
      "\n",
      "        quantity tons      customer        country  status item type  \\\n",
      "count    1.816710e+05  1.816710e+05  181671.000000  181671    181671   \n",
      "unique            NaN           NaN            NaN       9         7   \n",
      "top               NaN           NaN            NaN     Won         W   \n",
      "freq              NaN           NaN            NaN  116011    105613   \n",
      "mean     5.874958e+03  3.051221e+07      44.898316     NaN       NaN   \n",
      "min     -2.000000e+03  1.245800e+04      25.000000     NaN       NaN   \n",
      "25%      1.097022e+01  3.019688e+07      26.000000     NaN       NaN   \n",
      "50%      3.036500e+01  3.020524e+07      30.000000     NaN       NaN   \n",
      "75%      6.716084e+01  3.028042e+07      78.000000     NaN       NaN   \n",
      "max      1.000000e+09  2.147484e+09     113.000000     NaN       NaN   \n",
      "std      2.349088e+06  2.433388e+07      24.405860     NaN       NaN   \n",
      "\n",
      "          application      thickness          width material_ref  \\\n",
      "count   181671.000000  181671.000000  181671.000000       103753   \n",
      "unique            NaN            NaN            NaN        16563   \n",
      "top               NaN            NaN            NaN      DX51D+Z   \n",
      "freq              NaN            NaN            NaN          922   \n",
      "mean        25.613648       2.564830    1295.290200          NaN   \n",
      "min          2.000000       0.180000       1.000000          NaN   \n",
      "25%         10.000000       0.700000    1180.000000          NaN   \n",
      "50%         15.000000       1.500000    1250.000000          NaN   \n",
      "75%         41.000000       3.000000    1500.000000          NaN   \n",
      "max         99.000000    2500.000000    2990.000000          NaN   \n",
      "std         17.753796       6.572338     261.631087          NaN   \n",
      "\n",
      "         product_ref                  delivery date  selling_price  \n",
      "count   1.816710e+05                         181671   1.816710e+05  \n",
      "unique           NaN                            NaN            NaN  \n",
      "top              NaN                            NaN            NaN  \n",
      "freq             NaN                            NaN            NaN  \n",
      "mean    4.739731e+08  2021-01-25 22:43:03.020955136   1.918041e+03  \n",
      "min     6.117280e+05            2019-04-01 00:00:00  -1.160000e+03  \n",
      "25%     6.119930e+05            2020-11-01 00:00:00   6.690000e+02  \n",
      "50%     6.406650e+05            2021-01-01 00:00:00   8.120000e+02  \n",
      "75%     1.332077e+09            2021-04-01 00:00:00   9.530000e+02  \n",
      "max     1.722208e+09            2022-01-01 00:00:00   1.000010e+08  \n",
      "std     7.175123e+08                            NaN   3.317966e+05  \n"
     ]
    }
   ],
   "source": [
    "# Basic structure\n",
    "print(\"Shape of data:\", df.shape)\n",
    "print(\"\\nColumn names:\\n\", df.columns.tolist())\n",
    "print(\"\\nSummary Statistics:\\n\")\n",
    "print(df.describe(include='all'))\n"
   ]
  },
  {
   "cell_type": "code",
   "execution_count": 10,
   "id": "09fc6321",
   "metadata": {},
   "outputs": [],
   "source": [
    "# Univariate Analysis: Value counts and distributions\n",
    "\n",
    "\n",
    "# 1. Import necessary libraries\n",
    "import pandas as pd\n",
    "import numpy as np\n",
    "import matplotlib.pyplot as plt\n",
    "import seaborn as sns\n",
    "from scipy.stats import skew\n",
    "from sklearn.preprocessing import StandardScaler"
   ]
  },
  {
   "cell_type": "code",
   "execution_count": 11,
   "id": "5b8e7bed",
   "metadata": {},
   "outputs": [
    {
     "name": "stdout",
     "output_type": "stream",
     "text": [
      "\n",
      "Value counts for status:\n",
      "status\n",
      "Won                116011\n",
      "Lost                34438\n",
      "Not lost for AM     19573\n",
      "Revised              4276\n",
      "To be approved       4169\n",
      "Draft                3140\n",
      "Offered                53\n",
      "Offerable              10\n",
      "Wonderful               1\n",
      "Name: count, dtype: int64\n",
      "\n",
      "\n",
      "\n",
      "Value counts for item type:\n",
      "item type\n",
      "W         105613\n",
      "S          69236\n",
      "PL          5660\n",
      "Others       610\n",
      "WI           524\n",
      "IPL           27\n",
      "SLAWR          1\n",
      "Name: count, dtype: int64\n",
      "\n",
      "\n",
      "\n",
      "Value counts for country:\n",
      "country\n",
      "78.0     32112\n",
      "26.0     27516\n",
      "25.0     23362\n",
      "27.0     21510\n",
      "32.0     18658\n",
      "28.0     15823\n",
      "84.0     12776\n",
      "77.0      9714\n",
      "30.0      8702\n",
      "39.0      3731\n",
      "79.0      2742\n",
      "38.0      1712\n",
      "40.0      1683\n",
      "80.0       819\n",
      "113.0      714\n",
      "89.0        92\n",
      "107.0        5\n",
      "Name: count, dtype: int64\n",
      "\n",
      "\n"
     ]
    }
   ],
   "source": [
    "# Categorical variables value counts\n",
    "cat_cols = ['status', 'item type', 'country']\n",
    "for col in cat_cols:\n",
    "    print(f\"\\nValue counts for {col}:\")\n",
    "    print(df[col].value_counts())\n",
    "    print(\"\\n\")"
   ]
  },
  {
   "cell_type": "code",
   "execution_count": 12,
   "id": "92ec3651",
   "metadata": {},
   "outputs": [
    {
     "data": {
      "image/png": "[encoded data removed]",
      "text/plain": [
       "<Figure size 1500x1000 with 4 Axes>"
      ]
     },
     "metadata": {},
     "output_type": "display_data"
    }
   ],
   "source": [
    "# 2. Distribution plots for numerical variables\n",
    "num_cols = ['selling_price', 'quantity tons', 'thickness', 'width']\n",
    "plt.figure(figsize=(15, 10))\n",
    "for i, col in enumerate(num_cols):\n",
    "    plt.subplot(2, 2, i+1)\n",
    "    sns.histplot(df[col], bins=50, kde=True)\n",
    "    plt.title(f\"Distribution of {col}\")\n",
    "plt.tight_layout()\n",
    "plt.show()"
   ]
  },
  {
   "cell_type": "code",
   "execution_count": 13,
   "id": "10bbd566",
   "metadata": {},
   "outputs": [
    {
     "data": {
      "image/png": "[encoded data removed]",
      "text/plain": [
       "<Figure size 1500x1000 with 4 Axes>"
      ]
     },
     "metadata": {},
     "output_type": "display_data"
    }
   ],
   "source": [
    "# 3. Boxplots to identify outliers\n",
    "plt.figure(figsize=(15, 10))\n",
    "for i, col in enumerate(num_cols):\n",
    "    plt.subplot(2, 2, i+1)\n",
    "    sns.boxplot(x=df[col])\n",
    "    plt.title(f\"Boxplot of {col}\")\n",
    "plt.tight_layout()\n",
    "plt.show()"
   ]
  },
  {
   "cell_type": "markdown",
   "id": "6aaf1d9f",
   "metadata": {},
   "source": [
    "| Reason                                     | Explanation                                                                                           |\n",
    "| ------------------------------------------ | ----------------------------------------------------------------------------------------------------- |\n",
    "| **Noise reduction**                        | Extreme outliers can mislead models, especially regressors (like linear, decision tree-based models). |\n",
    "| **Better model accuracy**                  | Removing erroneous values (like 1e9 tons of copper or 1e8 price) improves generalization.             |\n",
    "| **Capping may still distort distribution** | Capped values still lie on artificial edges and can bias the model.                                   |\n",
    "| **Plenty of data remains**                 | You have **181K+ records**, so dropping a few hundred or even thousand won’t hurt model training.     |\n"
   ]
  },
  {
   "cell_type": "code",
   "execution_count": 14,
   "id": "0a507126",
   "metadata": {},
   "outputs": [
    {
     "name": "stdout",
     "output_type": "stream",
     "text": [
      "Original shape: (181671, 14)\n",
      "After outlier removal: (143899, 14)\n"
     ]
    }
   ],
   "source": [
    "# Outlier removal using IQR (Interquartile Range)\n",
    "import numpy as np\n",
    "\n",
    "# Copy dataframe to avoid modifying original\n",
    "df_cleaned = df.copy()\n",
    "\n",
    "# Define columns to clean\n",
    "cols_to_check = ['selling_price', 'quantity tons', 'thickness']\n",
    "\n",
    "for col in cols_to_check:\n",
    "    Q1 = df_cleaned[col].quantile(0.25)\n",
    "    Q3 = df_cleaned[col].quantile(0.75)\n",
    "    IQR = Q3 - Q1\n",
    "    lower_bound = Q1 - 1.5 * IQR\n",
    "    upper_bound = Q3 + 1.5 * IQR\n",
    "    \n",
    "    # Filter rows within bounds\n",
    "    df_cleaned = df_cleaned[(df_cleaned[col] >= lower_bound) & (df_cleaned[col] <= upper_bound)]\n",
    "\n",
    "# Show shape before and after\n",
    "print(\"Original shape:\", df.shape)\n",
    "print(\"After outlier removal:\", df_cleaned.shape)"
   ]
  },
  {
   "cell_type": "markdown",
   "id": "7cb54d27",
   "metadata": {},
   "source": [
    "Feature Engineering"
   ]
  },
  {
   "cell_type": "code",
   "execution_count": 15,
   "id": "461f0dc1",
   "metadata": {},
   "outputs": [],
   "source": [
    "# Feature Engineering Step for Copper Dataset\n",
    "\n",
    "# 1. Import necessary libraries\n",
    "import pandas as pd\n",
    "import numpy as np\n",
    "\n",
    "# Assuming your cleaned DataFrame is named df\n",
    "\n",
    "# 2. Ensure datetime conversion (in case it was dropped or altered previously)\n",
    "df['item_date'] = pd.to_datetime(df['item_date'], errors='coerce')\n",
    "df['delivery date'] = pd.to_datetime(df['delivery date'], errors='coerce')\n",
    "\n",
    "# 3. Extract useful date-related features from item_date and delivery date\n",
    "df['item_year'] = df['item_date'].dt.year\n",
    "df['item_month'] = df['item_date'].dt.month\n",
    "df['item_dayofweek'] = df['item_date'].dt.dayofweek\n",
    "\n",
    "df['delivery_year'] = df['delivery date'].dt.year\n",
    "df['delivery_month'] = df['delivery date'].dt.month\n",
    "df['delivery_dayofweek'] = df['delivery date'].dt.dayofweek\n",
    "\n",
    "# 4. Create a new feature: delivery lead time (in days)\n",
    "df['delivery_lead_time'] = (df['delivery date'] - df['item_date']).dt.days\n",
    "\n",
    "# 5. Drop original date columns if not needed later\n",
    "df.drop(columns=['item_date', 'delivery date'], inplace=True)\n",
    "\n",
    "# 6. One-hot encode categorical columns\n",
    "categorical_cols = ['status', 'item type']\n",
    "df = pd.get_dummies(df, columns=categorical_cols, drop_first=True)\n",
    "\n",
    "# 7. Reset index just to keep it clean after filtering/outlier removal\n",
    "df.reset_index(drop=True, inplace=True)\n"
   ]
  },
  {
   "cell_type": "code",
   "execution_count": 16,
   "id": "a294ecfc",
   "metadata": {},
   "outputs": [
    {
     "name": "stdout",
     "output_type": "stream",
     "text": [
      "Updated shape after feature engineering: (181671, 31)\n"
     ]
    },
    {
     "data": {
      "application/vnd.microsoft.datawrangler.viewer.v0+json": {
       "columns": [
        {
         "name": "index",
         "rawType": "int64",
         "type": "integer"
        },
        {
         "name": "id",
         "rawType": "object",
         "type": "string"
        },
        {
         "name": "quantity tons",
         "rawType": "float64",
         "type": "float"
        },
        {
         "name": "customer",
         "rawType": "float64",
         "type": "float"
        },
        {
         "name": "country",
         "rawType": "float64",
         "type": "float"
        },
        {
         "name": "application",
         "rawType": "float64",
         "type": "float"
        },
        {
         "name": "thickness",
         "rawType": "float64",
         "type": "float"
        },
        {
         "name": "width",
         "rawType": "float64",
         "type": "float"
        },
        {
         "name": "material_ref",
         "rawType": "object",
         "type": "string"
        },
        {
         "name": "product_ref",
         "rawType": "int64",
         "type": "integer"
        },
        {
         "name": "selling_price",
         "rawType": "float64",
         "type": "float"
        },
        {
         "name": "item_year",
         "rawType": "int32",
         "type": "integer"
        },
        {
         "name": "item_month",
         "rawType": "int32",
         "type": "integer"
        },
        {
         "name": "item_dayofweek",
         "rawType": "int32",
         "type": "integer"
        },
        {
         "name": "delivery_year",
         "rawType": "int32",
         "type": "integer"
        },
        {
         "name": "delivery_month",
         "rawType": "int32",
         "type": "integer"
        },
        {
         "name": "delivery_dayofweek",
         "rawType": "int32",
         "type": "integer"
        },
        {
         "name": "delivery_lead_time",
         "rawType": "int64",
         "type": "integer"
        },
        {
         "name": "status_Lost",
         "rawType": "bool",
         "type": "boolean"
        },
        {
         "name": "status_Not lost for AM",
         "rawType": "bool",
         "type": "boolean"
        },
        {
         "name": "status_Offerable",
         "rawType": "bool",
         "type": "boolean"
        },
        {
         "name": "status_Offered",
         "rawType": "bool",
         "type": "boolean"
        },
        {
         "name": "status_Revised",
         "rawType": "bool",
         "type": "boolean"
        },
        {
         "name": "status_To be approved",
         "rawType": "bool",
         "type": "boolean"
        },
        {
         "name": "status_Won",
         "rawType": "bool",
         "type": "boolean"
        },
        {
         "name": "status_Wonderful",
         "rawType": "bool",
         "type": "boolean"
        },
        {
         "name": "item type_Others",
         "rawType": "bool",
         "type": "boolean"
        },
        {
         "name": "item type_PL",
         "rawType": "bool",
         "type": "boolean"
        },
        {
         "name": "item type_S",
         "rawType": "bool",
         "type": "boolean"
        },
        {
         "name": "item type_SLAWR",
         "rawType": "bool",
         "type": "boolean"
        },
        {
         "name": "item type_W",
         "rawType": "bool",
         "type": "boolean"
        },
        {
         "name": "item type_WI",
         "rawType": "bool",
         "type": "boolean"
        }
       ],
       "ref": "2cf6c810-0780-4743-a648-a56746d2c6f9",
       "rows": [
        [
         "0",
         "EC06F063-9DF0-440C-8764-0B0C05A4F6AE",
         "54.15113861692779",
         "30156308.0",
         "28.0",
         "10.0",
         "2.0",
         "1500.0",
         "DEQ1 S460MC",
         "1670798778",
         "854.0",
         "2021",
         "4",
         "3",
         "2021",
         "7",
         "3",
         "91",
         "False",
         "False",
         "False",
         "False",
         "False",
         "False",
         "True",
         "False",
         "False",
         "False",
         "False",
         "False",
         "True",
         "False"
        ],
        [
         "1",
         "4E5F4B3D-DDDF-499D-AFDE-A3227EC49425",
         "768.0248392021871",
         "30202938.0",
         "25.0",
         "41.0",
         "0.8",
         "1210.0",
         "0000000000000000000000000000000000104991",
         "1668701718",
         "1047.0",
         "2021",
         "4",
         "3",
         "2021",
         "4",
         "3",
         "0",
         "False",
         "False",
         "False",
         "False",
         "False",
         "False",
         "True",
         "False",
         "False",
         "False",
         "False",
         "False",
         "True",
         "False"
        ],
        [
         "2",
         "E140FF1B-2407-4C02-A0DD-780A093B1158",
         "386.1279489091378",
         "30153963.0",
         "30.0",
         "28.0",
         "0.38",
         "952.0",
         "S0380700",
         "628377",
         "644.33",
         "2021",
         "4",
         "3",
         "2021",
         "1",
         "4",
         "-90",
         "False",
         "False",
         "False",
         "False",
         "False",
         "False",
         "True",
         "False",
         "False",
         "False",
         "False",
         "False",
         "False",
         "True"
        ],
        [
         "3",
         "F8D507A0-9C62-4EFE-831E-33E1DA53BB50",
         "202.41106540948442",
         "30349574.0",
         "32.0",
         "59.0",
         "2.3",
         "1317.0",
         "DX51D+ZM310MAO 2.3X1317",
         "1668701718",
         "768.0",
         "2021",
         "4",
         "3",
         "2021",
         "1",
         "4",
         "-90",
         "False",
         "False",
         "False",
         "False",
         "False",
         "False",
         "True",
         "False",
         "False",
         "False",
         "True",
         "False",
         "False",
         "False"
        ],
        [
         "4",
         "4E1C4E78-152B-430A-8094-ADD889C9D0AD",
         "785.5262615733325",
         "30211560.0",
         "28.0",
         "10.0",
         "4.0",
         "2000.0",
         "2_S275JR+AR-CL1",
         "640665",
         "577.0",
         "2021",
         "4",
         "3",
         "2021",
         "3",
         "0",
         "-31",
         "False",
         "False",
         "False",
         "False",
         "False",
         "False",
         "True",
         "False",
         "False",
         "False",
         "False",
         "False",
         "True",
         "False"
        ]
       ],
       "shape": {
        "columns": 31,
        "rows": 5
       }
      },
      "text/html": [
       "<div>\n",
       "<style scoped>\n",
       "    .dataframe tbody tr th:only-of-type {\n",
       "        vertical-align: middle;\n",
       "    }\n",
       "\n",
       "    .dataframe tbody tr th {\n",
       "        vertical-align: top;\n",
       "    }\n",
       "\n",
       "    .dataframe thead th {\n",
       "        text-align: right;\n",
       "    }\n",
       "</style>\n",
       "<table border=\"1\" class=\"dataframe\">\n",
       "  <thead>\n",
       "    <tr style=\"text-align: right;\">\n",
       "      <th></th>\n",
       "      <th>id</th>\n",
       "      <th>quantity tons</th>\n",
       "      <th>customer</th>\n",
       "      <th>country</th>\n",
       "      <th>application</th>\n",
       "      <th>thickness</th>\n",
       "      <th>width</th>\n",
       "      <th>material_ref</th>\n",
       "      <th>product_ref</th>\n",
       "      <th>selling_price</th>\n",
       "      <th>...</th>\n",
       "      <th>status_Revised</th>\n",
       "      <th>status_To be approved</th>\n",
       "      <th>status_Won</th>\n",
       "      <th>status_Wonderful</th>\n",
       "      <th>item type_Others</th>\n",
       "      <th>item type_PL</th>\n",
       "      <th>item type_S</th>\n",
       "      <th>item type_SLAWR</th>\n",
       "      <th>item type_W</th>\n",
       "      <th>item type_WI</th>\n",
       "    </tr>\n",
       "  </thead>\n",
       "  <tbody>\n",
       "    <tr>\n",
       "      <th>0</th>\n",
       "      <td>EC06F063-9DF0-440C-8764-0B0C05A4F6AE</td>\n",
       "      <td>54.151139</td>\n",
       "      <td>30156308.0</td>\n",
       "      <td>28.0</td>\n",
       "      <td>10.0</td>\n",
       "      <td>2.00</td>\n",
       "      <td>1500.0</td>\n",
       "      <td>DEQ1 S460MC</td>\n",
       "      <td>1670798778</td>\n",
       "      <td>854.00</td>\n",
       "      <td>...</td>\n",
       "      <td>False</td>\n",
       "      <td>False</td>\n",
       "      <td>True</td>\n",
       "      <td>False</td>\n",
       "      <td>False</td>\n",
       "      <td>False</td>\n",
       "      <td>False</td>\n",
       "      <td>False</td>\n",
       "      <td>True</td>\n",
       "      <td>False</td>\n",
       "    </tr>\n",
       "    <tr>\n",
       "      <th>1</th>\n",
       "      <td>4E5F4B3D-DDDF-499D-AFDE-A3227EC49425</td>\n",
       "      <td>768.024839</td>\n",
       "      <td>30202938.0</td>\n",
       "      <td>25.0</td>\n",
       "      <td>41.0</td>\n",
       "      <td>0.80</td>\n",
       "      <td>1210.0</td>\n",
       "      <td>0000000000000000000000000000000000104991</td>\n",
       "      <td>1668701718</td>\n",
       "      <td>1047.00</td>\n",
       "      <td>...</td>\n",
       "      <td>False</td>\n",
       "      <td>False</td>\n",
       "      <td>True</td>\n",
       "      <td>False</td>\n",
       "      <td>False</td>\n",
       "      <td>False</td>\n",
       "      <td>False</td>\n",
       "      <td>False</td>\n",
       "      <td>True</td>\n",
       "      <td>False</td>\n",
       "    </tr>\n",
       "    <tr>\n",
       "      <th>2</th>\n",
       "      <td>E140FF1B-2407-4C02-A0DD-780A093B1158</td>\n",
       "      <td>386.127949</td>\n",
       "      <td>30153963.0</td>\n",
       "      <td>30.0</td>\n",
       "      <td>28.0</td>\n",
       "      <td>0.38</td>\n",
       "      <td>952.0</td>\n",
       "      <td>S0380700</td>\n",
       "      <td>628377</td>\n",
       "      <td>644.33</td>\n",
       "      <td>...</td>\n",
       "      <td>False</td>\n",
       "      <td>False</td>\n",
       "      <td>True</td>\n",
       "      <td>False</td>\n",
       "      <td>False</td>\n",
       "      <td>False</td>\n",
       "      <td>False</td>\n",
       "      <td>False</td>\n",
       "      <td>False</td>\n",
       "      <td>True</td>\n",
       "    </tr>\n",
       "    <tr>\n",
       "      <th>3</th>\n",
       "      <td>F8D507A0-9C62-4EFE-831E-33E1DA53BB50</td>\n",
       "      <td>202.411065</td>\n",
       "      <td>30349574.0</td>\n",
       "      <td>32.0</td>\n",
       "      <td>59.0</td>\n",
       "      <td>2.30</td>\n",
       "      <td>1317.0</td>\n",
       "      <td>DX51D+ZM310MAO 2.3X1317</td>\n",
       "      <td>1668701718</td>\n",
       "      <td>768.00</td>\n",
       "      <td>...</td>\n",
       "      <td>False</td>\n",
       "      <td>False</td>\n",
       "      <td>True</td>\n",
       "      <td>False</td>\n",
       "      <td>False</td>\n",
       "      <td>False</td>\n",
       "      <td>True</td>\n",
       "      <td>False</td>\n",
       "      <td>False</td>\n",
       "      <td>False</td>\n",
       "    </tr>\n",
       "    <tr>\n",
       "      <th>4</th>\n",
       "      <td>4E1C4E78-152B-430A-8094-ADD889C9D0AD</td>\n",
       "      <td>785.526262</td>\n",
       "      <td>30211560.0</td>\n",
       "      <td>28.0</td>\n",
       "      <td>10.0</td>\n",
       "      <td>4.00</td>\n",
       "      <td>2000.0</td>\n",
       "      <td>2_S275JR+AR-CL1</td>\n",
       "      <td>640665</td>\n",
       "      <td>577.00</td>\n",
       "      <td>...</td>\n",
       "      <td>False</td>\n",
       "      <td>False</td>\n",
       "      <td>True</td>\n",
       "      <td>False</td>\n",
       "      <td>False</td>\n",
       "      <td>False</td>\n",
       "      <td>False</td>\n",
       "      <td>False</td>\n",
       "      <td>True</td>\n",
       "      <td>False</td>\n",
       "    </tr>\n",
       "  </tbody>\n",
       "</table>\n",
       "<p>5 rows × 31 columns</p>\n",
       "</div>"
      ],
      "text/plain": [
       "                                     id  quantity tons    customer  country  \\\n",
       "0  EC06F063-9DF0-440C-8764-0B0C05A4F6AE      54.151139  30156308.0     28.0   \n",
       "1  4E5F4B3D-DDDF-499D-AFDE-A3227EC49425     768.024839  30202938.0     25.0   \n",
       "2  E140FF1B-2407-4C02-A0DD-780A093B1158     386.127949  30153963.0     30.0   \n",
       "3  F8D507A0-9C62-4EFE-831E-33E1DA53BB50     202.411065  30349574.0     32.0   \n",
       "4  4E1C4E78-152B-430A-8094-ADD889C9D0AD     785.526262  30211560.0     28.0   \n",
       "\n",
       "   application  thickness   width                              material_ref  \\\n",
       "0         10.0       2.00  1500.0                               DEQ1 S460MC   \n",
       "1         41.0       0.80  1210.0  0000000000000000000000000000000000104991   \n",
       "2         28.0       0.38   952.0                                  S0380700   \n",
       "3         59.0       2.30  1317.0                   DX51D+ZM310MAO 2.3X1317   \n",
       "4         10.0       4.00  2000.0                           2_S275JR+AR-CL1   \n",
       "\n",
       "   product_ref  selling_price  ...  status_Revised  status_To be approved  \\\n",
       "0   1670798778         854.00  ...           False                  False   \n",
       "1   1668701718        1047.00  ...           False                  False   \n",
       "2       628377         644.33  ...           False                  False   \n",
       "3   1668701718         768.00  ...           False                  False   \n",
       "4       640665         577.00  ...           False                  False   \n",
       "\n",
       "   status_Won  status_Wonderful  item type_Others  item type_PL  item type_S  \\\n",
       "0        True             False             False         False        False   \n",
       "1        True             False             False         False        False   \n",
       "2        True             False             False         False        False   \n",
       "3        True             False             False         False         True   \n",
       "4        True             False             False         False        False   \n",
       "\n",
       "   item type_SLAWR  item type_W  item type_WI  \n",
       "0            False         True         False  \n",
       "1            False         True         False  \n",
       "2            False        False          True  \n",
       "3            False        False         False  \n",
       "4            False         True         False  \n",
       "\n",
       "[5 rows x 31 columns]"
      ]
     },
     "execution_count": 16,
     "metadata": {},
     "output_type": "execute_result"
    }
   ],
   "source": [
    "# View updated shape and sample\n",
    "print(\"Updated shape after feature engineering:\", df.shape)\n",
    "df.head()"
   ]
  },
  {
   "cell_type": "code",
   "execution_count": 17,
   "id": "d21215d2",
   "metadata": {},
   "outputs": [
    {
     "name": "stdout",
     "output_type": "stream",
     "text": [
      "✅ Feature Engineering, Skewness Treatment & Scaling Done\n",
      "Final Scaled Shape: (181671, 29)\n"
     ]
    },
    {
     "data": {
      "application/vnd.microsoft.datawrangler.viewer.v0+json": {
       "columns": [
        {
         "name": "index",
         "rawType": "int64",
         "type": "integer"
        },
        {
         "name": "quantity tons",
         "rawType": "float64",
         "type": "float"
        },
        {
         "name": "customer",
         "rawType": "float64",
         "type": "float"
        },
        {
         "name": "country",
         "rawType": "float64",
         "type": "float"
        },
        {
         "name": "application",
         "rawType": "float64",
         "type": "float"
        },
        {
         "name": "thickness",
         "rawType": "float64",
         "type": "float"
        },
        {
         "name": "width",
         "rawType": "float64",
         "type": "float"
        },
        {
         "name": "product_ref",
         "rawType": "float64",
         "type": "float"
        },
        {
         "name": "selling_price",
         "rawType": "float64",
         "type": "float"
        },
        {
         "name": "item_year",
         "rawType": "float64",
         "type": "float"
        },
        {
         "name": "item_month",
         "rawType": "float64",
         "type": "float"
        },
        {
         "name": "item_dayofweek",
         "rawType": "float64",
         "type": "float"
        },
        {
         "name": "delivery_year",
         "rawType": "float64",
         "type": "float"
        },
        {
         "name": "delivery_month",
         "rawType": "float64",
         "type": "float"
        },
        {
         "name": "delivery_dayofweek",
         "rawType": "float64",
         "type": "float"
        },
        {
         "name": "delivery_lead_time",
         "rawType": "float64",
         "type": "float"
        },
        {
         "name": "status_Lost",
         "rawType": "float64",
         "type": "float"
        },
        {
         "name": "status_Not lost for AM",
         "rawType": "float64",
         "type": "float"
        },
        {
         "name": "status_Offerable",
         "rawType": "float64",
         "type": "float"
        },
        {
         "name": "status_Offered",
         "rawType": "float64",
         "type": "float"
        },
        {
         "name": "status_Revised",
         "rawType": "float64",
         "type": "float"
        },
        {
         "name": "status_To be approved",
         "rawType": "float64",
         "type": "float"
        },
        {
         "name": "status_Won",
         "rawType": "float64",
         "type": "float"
        },
        {
         "name": "status_Wonderful",
         "rawType": "float64",
         "type": "float"
        },
        {
         "name": "item type_Others",
         "rawType": "float64",
         "type": "float"
        },
        {
         "name": "item type_PL",
         "rawType": "float64",
         "type": "float"
        },
        {
         "name": "item type_S",
         "rawType": "float64",
         "type": "float"
        },
        {
         "name": "item type_SLAWR",
         "rawType": "float64",
         "type": "float"
        },
        {
         "name": "item type_W",
         "rawType": "float64",
         "type": "float"
        },
        {
         "name": "item type_WI",
         "rawType": "float64",
         "type": "float"
        }
       ],
       "ref": "1830201b-b0ec-4964-843e-ad2e52ee46f1",
       "rows": [
        [
         "0",
         "-0.12307052065998317",
         "-0.05819587018987738",
         "-0.6923895568426247",
         "-0.8794564459751478",
         "0.06932207847706415",
         "0.7824389879327027",
         "1.3621916652574468",
         "0.20192610343689918",
         "1.2500578331145629",
         "-0.6880723893697115",
         "0.7594672148069236",
         "0.6936617565226856",
         "0.36550797765087867",
         "0.014826725213789915",
         "0.6623799697642824",
         "-0.48363350506417957",
         "-0.34748804670466454",
         "-0.007419406218854687",
         "-0.017082777738004616",
         "-0.1552559170717457",
         "-0.15325488344826166",
         "0.7523169625658882",
         "-0.0023461641366744404",
         "-0.058043348686959324",
         "-0.17932395571011336",
         "-0.7847209052250719",
         "-0.0023461641366744404",
         "0.8486209733216785",
         "-0.05378362503611818"
        ],
        [
         "1",
         "2.692412293408173",
         "-0.028681956015686745",
         "-0.8153111927942346",
         "0.8666537689796135",
         "-0.7803488941784618",
         "-0.32599503320319095",
         "1.361838162013599",
         "0.9251960976741311",
         "1.2500578331145629",
         "-0.6880723893697115",
         "0.7594672148069236",
         "0.6936617565226856",
         "-0.5100138214316047",
         "0.014826725213789915",
         "-1.281452794023604",
         "-0.48363350506417957",
         "-0.34748804670466454",
         "-0.007419406218854687",
         "-0.017082777738004616",
         "-0.1552559170717457",
         "-0.15325488344826166",
         "0.7523169625658882",
         "-0.0023461641366744404",
         "-0.058043348686959324",
         "-0.17932395571011336",
         "-0.7847209052250719",
         "-0.0023461641366744404",
         "0.8486209733216785",
         "-0.05378362503611818"
        ],
        [
         "2",
         "1.290941069609156",
         "-0.05968131554968756",
         "-0.6104417995415514",
         "0.13441400141793947",
         "-1.2223006224446151",
         "-1.3121190933861584",
         "-0.8573976838598668",
         "-0.6668578162206025",
         "1.2500578331145629",
         "-0.6880723893697115",
         "0.7594672148069236",
         "0.6936617565226856",
         "-1.385535620514088",
         "0.669404124075137",
         "-3.2039247582094257",
         "-0.48363350506417957",
         "-0.34748804670466454",
         "-0.007419406218854687",
         "-0.017082777738004616",
         "-0.1552559170717457",
         "-0.15325488344826166",
         "0.7523169625658882",
         "-0.0023461641366744404",
         "-0.058043348686959324",
         "-0.17932395571011336",
         "-0.7847209052250719",
         "-0.0023461641366744404",
         "-1.1783823773360125",
         "18.593019703087215"
        ],
        [
         "3",
         "0.5346919612816868",
         "0.0638335234647999",
         "-0.5284940422404782",
         "1.880524216372701",
         "0.22785424564065124",
         "0.08297889873315603",
         "1.361838162013599",
         "-0.14296154685679738",
         "1.2500578331145629",
         "-0.6880723893697115",
         "0.7594672148069236",
         "0.6936617565226856",
         "-1.385535620514088",
         "0.669404124075137",
         "-3.2039247582094257",
         "-0.48363350506417957",
         "-0.34748804670466454",
         "-0.007419406218854687",
         "-0.017082777738004616",
         "-0.1552559170717457",
         "-0.15325488344826166",
         "0.7523169625658882",
         "-0.0023461641366744404",
         "-0.058043348686959324",
         "-0.17932395571011336",
         "1.2743384219045144",
         "-0.0023461641366744404",
         "-1.1783823773360125",
         "-0.05378362503611818"
        ],
        [
         "4",
         "2.7519138262885736",
         "-0.023229753680152964",
         "-0.6923895568426247",
         "-0.8794564459751478",
         "0.9189930511325897",
         "2.693532127822175",
         "-0.8519466096006901",
         "-0.9673766300794726",
         "1.2500578331145629",
         "-0.6880723893697115",
         "0.7594672148069236",
         "0.6936617565226856",
         "-0.8018544211257658",
         "-1.9489054713702516",
         "-1.9436375816876093",
         "-0.48363350506417957",
         "-0.34748804670466454",
         "-0.007419406218854687",
         "-0.017082777738004616",
         "-0.1552559170717457",
         "-0.15325488344826166",
         "0.7523169625658882",
         "-0.0023461641366744404",
         "-0.058043348686959324",
         "-0.17932395571011336",
         "-0.7847209052250719",
         "-0.0023461641366744404",
         "0.8486209733216785",
         "-0.05378362503611818"
        ]
       ],
       "shape": {
        "columns": 29,
        "rows": 5
       }
      },
      "text/html": [
       "<div>\n",
       "<style scoped>\n",
       "    .dataframe tbody tr th:only-of-type {\n",
       "        vertical-align: middle;\n",
       "    }\n",
       "\n",
       "    .dataframe tbody tr th {\n",
       "        vertical-align: top;\n",
       "    }\n",
       "\n",
       "    .dataframe thead th {\n",
       "        text-align: right;\n",
       "    }\n",
       "</style>\n",
       "<table border=\"1\" class=\"dataframe\">\n",
       "  <thead>\n",
       "    <tr style=\"text-align: right;\">\n",
       "      <th></th>\n",
       "      <th>quantity tons</th>\n",
       "      <th>customer</th>\n",
       "      <th>country</th>\n",
       "      <th>application</th>\n",
       "      <th>thickness</th>\n",
       "      <th>width</th>\n",
       "      <th>product_ref</th>\n",
       "      <th>selling_price</th>\n",
       "      <th>item_year</th>\n",
       "      <th>item_month</th>\n",
       "      <th>...</th>\n",
       "      <th>status_Revised</th>\n",
       "      <th>status_To be approved</th>\n",
       "      <th>status_Won</th>\n",
       "      <th>status_Wonderful</th>\n",
       "      <th>item type_Others</th>\n",
       "      <th>item type_PL</th>\n",
       "      <th>item type_S</th>\n",
       "      <th>item type_SLAWR</th>\n",
       "      <th>item type_W</th>\n",
       "      <th>item type_WI</th>\n",
       "    </tr>\n",
       "  </thead>\n",
       "  <tbody>\n",
       "    <tr>\n",
       "      <th>0</th>\n",
       "      <td>-0.123071</td>\n",
       "      <td>-0.058196</td>\n",
       "      <td>-0.692390</td>\n",
       "      <td>-0.879456</td>\n",
       "      <td>0.069322</td>\n",
       "      <td>0.782439</td>\n",
       "      <td>1.362192</td>\n",
       "      <td>0.201926</td>\n",
       "      <td>1.250058</td>\n",
       "      <td>-0.688072</td>\n",
       "      <td>...</td>\n",
       "      <td>-0.155256</td>\n",
       "      <td>-0.153255</td>\n",
       "      <td>0.752317</td>\n",
       "      <td>-0.002346</td>\n",
       "      <td>-0.058043</td>\n",
       "      <td>-0.179324</td>\n",
       "      <td>-0.784721</td>\n",
       "      <td>-0.002346</td>\n",
       "      <td>0.848621</td>\n",
       "      <td>-0.053784</td>\n",
       "    </tr>\n",
       "    <tr>\n",
       "      <th>1</th>\n",
       "      <td>2.692412</td>\n",
       "      <td>-0.028682</td>\n",
       "      <td>-0.815311</td>\n",
       "      <td>0.866654</td>\n",
       "      <td>-0.780349</td>\n",
       "      <td>-0.325995</td>\n",
       "      <td>1.361838</td>\n",
       "      <td>0.925196</td>\n",
       "      <td>1.250058</td>\n",
       "      <td>-0.688072</td>\n",
       "      <td>...</td>\n",
       "      <td>-0.155256</td>\n",
       "      <td>-0.153255</td>\n",
       "      <td>0.752317</td>\n",
       "      <td>-0.002346</td>\n",
       "      <td>-0.058043</td>\n",
       "      <td>-0.179324</td>\n",
       "      <td>-0.784721</td>\n",
       "      <td>-0.002346</td>\n",
       "      <td>0.848621</td>\n",
       "      <td>-0.053784</td>\n",
       "    </tr>\n",
       "    <tr>\n",
       "      <th>2</th>\n",
       "      <td>1.290941</td>\n",
       "      <td>-0.059681</td>\n",
       "      <td>-0.610442</td>\n",
       "      <td>0.134414</td>\n",
       "      <td>-1.222301</td>\n",
       "      <td>-1.312119</td>\n",
       "      <td>-0.857398</td>\n",
       "      <td>-0.666858</td>\n",
       "      <td>1.250058</td>\n",
       "      <td>-0.688072</td>\n",
       "      <td>...</td>\n",
       "      <td>-0.155256</td>\n",
       "      <td>-0.153255</td>\n",
       "      <td>0.752317</td>\n",
       "      <td>-0.002346</td>\n",
       "      <td>-0.058043</td>\n",
       "      <td>-0.179324</td>\n",
       "      <td>-0.784721</td>\n",
       "      <td>-0.002346</td>\n",
       "      <td>-1.178382</td>\n",
       "      <td>18.593020</td>\n",
       "    </tr>\n",
       "    <tr>\n",
       "      <th>3</th>\n",
       "      <td>0.534692</td>\n",
       "      <td>0.063834</td>\n",
       "      <td>-0.528494</td>\n",
       "      <td>1.880524</td>\n",
       "      <td>0.227854</td>\n",
       "      <td>0.082979</td>\n",
       "      <td>1.361838</td>\n",
       "      <td>-0.142962</td>\n",
       "      <td>1.250058</td>\n",
       "      <td>-0.688072</td>\n",
       "      <td>...</td>\n",
       "      <td>-0.155256</td>\n",
       "      <td>-0.153255</td>\n",
       "      <td>0.752317</td>\n",
       "      <td>-0.002346</td>\n",
       "      <td>-0.058043</td>\n",
       "      <td>-0.179324</td>\n",
       "      <td>1.274338</td>\n",
       "      <td>-0.002346</td>\n",
       "      <td>-1.178382</td>\n",
       "      <td>-0.053784</td>\n",
       "    </tr>\n",
       "    <tr>\n",
       "      <th>4</th>\n",
       "      <td>2.751914</td>\n",
       "      <td>-0.023230</td>\n",
       "      <td>-0.692390</td>\n",
       "      <td>-0.879456</td>\n",
       "      <td>0.918993</td>\n",
       "      <td>2.693532</td>\n",
       "      <td>-0.851947</td>\n",
       "      <td>-0.967377</td>\n",
       "      <td>1.250058</td>\n",
       "      <td>-0.688072</td>\n",
       "      <td>...</td>\n",
       "      <td>-0.155256</td>\n",
       "      <td>-0.153255</td>\n",
       "      <td>0.752317</td>\n",
       "      <td>-0.002346</td>\n",
       "      <td>-0.058043</td>\n",
       "      <td>-0.179324</td>\n",
       "      <td>-0.784721</td>\n",
       "      <td>-0.002346</td>\n",
       "      <td>0.848621</td>\n",
       "      <td>-0.053784</td>\n",
       "    </tr>\n",
       "  </tbody>\n",
       "</table>\n",
       "<p>5 rows × 29 columns</p>\n",
       "</div>"
      ],
      "text/plain": [
       "   quantity tons  customer   country  application  thickness     width  \\\n",
       "0      -0.123071 -0.058196 -0.692390    -0.879456   0.069322  0.782439   \n",
       "1       2.692412 -0.028682 -0.815311     0.866654  -0.780349 -0.325995   \n",
       "2       1.290941 -0.059681 -0.610442     0.134414  -1.222301 -1.312119   \n",
       "3       0.534692  0.063834 -0.528494     1.880524   0.227854  0.082979   \n",
       "4       2.751914 -0.023230 -0.692390    -0.879456   0.918993  2.693532   \n",
       "\n",
       "   product_ref  selling_price  item_year  item_month  ...  status_Revised  \\\n",
       "0     1.362192       0.201926   1.250058   -0.688072  ...       -0.155256   \n",
       "1     1.361838       0.925196   1.250058   -0.688072  ...       -0.155256   \n",
       "2    -0.857398      -0.666858   1.250058   -0.688072  ...       -0.155256   \n",
       "3     1.361838      -0.142962   1.250058   -0.688072  ...       -0.155256   \n",
       "4    -0.851947      -0.967377   1.250058   -0.688072  ...       -0.155256   \n",
       "\n",
       "   status_To be approved  status_Won  status_Wonderful  item type_Others  \\\n",
       "0              -0.153255    0.752317         -0.002346         -0.058043   \n",
       "1              -0.153255    0.752317         -0.002346         -0.058043   \n",
       "2              -0.153255    0.752317         -0.002346         -0.058043   \n",
       "3              -0.153255    0.752317         -0.002346         -0.058043   \n",
       "4              -0.153255    0.752317         -0.002346         -0.058043   \n",
       "\n",
       "   item type_PL  item type_S  item type_SLAWR  item type_W  item type_WI  \n",
       "0     -0.179324    -0.784721        -0.002346     0.848621     -0.053784  \n",
       "1     -0.179324    -0.784721        -0.002346     0.848621     -0.053784  \n",
       "2     -0.179324    -0.784721        -0.002346    -1.178382     18.593020  \n",
       "3     -0.179324     1.274338        -0.002346    -1.178382     -0.053784  \n",
       "4     -0.179324    -0.784721        -0.002346     0.848621     -0.053784  \n",
       "\n",
       "[5 rows x 29 columns]"
      ]
     },
     "execution_count": 17,
     "metadata": {},
     "output_type": "execute_result"
    }
   ],
   "source": [
    "#  Skewness Treatment (Log1p or BoxCox where applicable)\n",
    "numeric_cols = df.select_dtypes(include=['float64', 'int64']).columns\n",
    "skewed_feats = df[numeric_cols].apply(lambda x: skew(x.dropna())).sort_values(ascending=False)\n",
    "\n",
    "high_skew = skewed_feats[skewed_feats > 1].index\n",
    "for col in high_skew:\n",
    "    if (df[col] <= 0).any():\n",
    "        df[col] = np.log1p(df[col] - df[col].min() + 1)\n",
    "    else:\n",
    "        df[col] = np.log1p(df[col])\n",
    "\n",
    "#  Scale the data (StandardScaler)\n",
    "df_model = df.drop(['id', 'material_ref'], axis=1)\n",
    "scaler = StandardScaler()\n",
    "df_scaled = pd.DataFrame(scaler.fit_transform(df_model), columns=df_model.columns)\n",
    "\n",
    "# View updated shape\n",
    "print(\"✅ Feature Engineering, Skewness Treatment & Scaling Done\")\n",
    "print(\"Final Scaled Shape:\", df_scaled.shape)\n",
    "df_scaled.head()\n"
   ]
  },
  {
   "cell_type": "markdown",
   "id": "bc74f644",
   "metadata": {},
   "source": [
    "Train-Test Split"
   ]
  },
  {
   "cell_type": "code",
   "execution_count": 18,
   "id": "cb302ec3",
   "metadata": {},
   "outputs": [],
   "source": [
    "from sklearn.model_selection import train_test_split\n",
    "\n",
    "# REGRESSION SETUP\n",
    "X_reg = df_scaled.drop('selling_price', axis=1)\n",
    "y_reg = df['selling_price']  # Use original target (not scaled)\n",
    "\n",
    "X_train_reg, X_test_reg, y_train_reg, y_test_reg = train_test_split(X_reg, y_reg, test_size=0.2, random_state=42)\n",
    "\n",
    "# CLASSIFICATION SETUP (Predicting status_Won)\n",
    "X_clf = df_scaled.drop('status_Won', axis=1)\n",
    "y_clf = df['status_Won']  # Use original binary column (not scaled)\n",
    "\n",
    "X_train_clf, X_test_clf, y_train_clf, y_test_clf = train_test_split(X_clf, y_clf, test_size=0.2, random_state=42)\n"
   ]
  },
  {
   "cell_type": "markdown",
   "id": "15349a0f",
   "metadata": {},
   "source": [
    "Model Building and Evaluation"
   ]
  },
  {
   "cell_type": "code",
   "execution_count": 19,
   "id": "72a0dedf",
   "metadata": {},
   "outputs": [
    {
     "name": "stdout",
     "output_type": "stream",
     "text": [
      "🔹 Regression RMSE: 0.040067151151165166\n",
      "🔹 R² Score: 0.8921257430644149\n"
     ]
    }
   ],
   "source": [
    "# Regression Model (XGBoost)\n",
    "\n",
    "from xgboost import XGBRegressor\n",
    "from sklearn.metrics import mean_squared_error, r2_score\n",
    "\n",
    "reg_model = XGBRegressor(random_state=42)\n",
    "reg_model.fit(X_train_reg, y_train_reg)\n",
    "\n",
    "y_pred_reg = reg_model.predict(X_test_reg)\n",
    "\n",
    "print(\"🔹 Regression RMSE:\", np.sqrt(mean_squared_error(y_test_reg, y_pred_reg)))\n",
    "print(\"🔹 R² Score:\", r2_score(y_test_reg, y_pred_reg))\n"
   ]
  },
  {
   "cell_type": "code",
   "execution_count": 20,
   "id": "74603c11",
   "metadata": {},
   "outputs": [
    {
     "name": "stdout",
     "output_type": "stream",
     "text": [
      "🔹 Classification Accuracy: 0.9999724783266822\n",
      "\n",
      "🔹 Classification Report:\n",
      "               precision    recall  f1-score   support\n",
      "\n",
      "       False       1.00      1.00      1.00     13122\n",
      "        True       1.00      1.00      1.00     23213\n",
      "\n",
      "    accuracy                           1.00     36335\n",
      "   macro avg       1.00      1.00      1.00     36335\n",
      "weighted avg       1.00      1.00      1.00     36335\n",
      "\n"
     ]
    }
   ],
   "source": [
    "#Classification Model (XGBoost)\n",
    "\n",
    "from xgboost import XGBClassifier\n",
    "from sklearn.metrics import accuracy_score, classification_report\n",
    "\n",
    "clf_model = XGBClassifier(random_state=42)\n",
    "clf_model.fit(X_train_clf, y_train_clf)\n",
    "\n",
    "y_pred_clf = clf_model.predict(X_test_clf)\n",
    "\n",
    "print(\"🔹 Classification Accuracy:\", accuracy_score(y_test_clf, y_pred_clf))\n",
    "print(\"\\n🔹 Classification Report:\\n\", classification_report(y_test_clf, y_pred_clf))\n"
   ]
  },
  {
   "cell_type": "code",
   "execution_count": 21,
   "id": "9a6a580e",
   "metadata": {},
   "outputs": [],
   "source": [
    "#Save Trained Models (Pickle)\n",
    "\n",
    "import pickle\n",
    "\n",
    "# Save Regression Model\n",
    "with open(\"reg_model.pkl\", \"wb\") as f:\n",
    "    pickle.dump(reg_model, f)\n",
    "\n",
    "# Save Classification Model\n",
    "with open(\"clf_model.pkl\", \"wb\") as f:\n",
    "    pickle.dump(clf_model, f)\n",
    "\n",
    "# Save Scaler\n",
    "with open(\"scaler.pkl\", \"wb\") as f:\n",
    "    pickle.dump(scaler, f)\n"
   ]
  },
  {
   "cell_type": "markdown",
   "id": "2e15e47e",
   "metadata": {},
   "source": [
    "Regression Model Tuning – XGBRegressor"
   ]
  },
  {
   "cell_type": "code",
   "execution_count": 22,
   "id": "e98d46c3",
   "metadata": {},
   "outputs": [],
   "source": [
    "# Drop target from features\n",
    "X = df_scaled.drop('selling_price', axis=1)\n",
    "y = df_scaled['selling_price']"
   ]
  },
  {
   "cell_type": "code",
   "execution_count": 23,
   "id": "9b16c7cd",
   "metadata": {},
   "outputs": [],
   "source": [
    "# Train-Test Split\n",
    "\n",
    "from sklearn.model_selection import train_test_split\n",
    "\n",
    "# Regression split\n",
    "X_train, X_test, y_train, y_test = train_test_split(X, y, test_size=0.2, random_state=42)"
   ]
  },
  {
   "cell_type": "code",
   "execution_count": 24,
   "id": "a4404883",
   "metadata": {},
   "outputs": [
    {
     "name": "stdout",
     "output_type": "stream",
     "text": [
      "Fitting 3 folds for each of 8 candidates, totalling 24 fits\n"
     ]
    },
    {
     "name": "stderr",
     "output_type": "stream",
     "text": [
      "c:\\Users\\prasa\\AppData\\Local\\Programs\\Python\\Python38\\lib\\site-packages\\sklearn\\model_selection\\_validation.py:425: FitFailedWarning: \n",
      "7 fits failed out of a total of 24.\n",
      "The score on these train-test partitions for these parameters will be set to nan.\n",
      "If these failures are not expected, you can try to debug them by setting error_score='raise'.\n",
      "\n",
      "Below are more details about the failures:\n",
      "--------------------------------------------------------------------------------\n",
      "7 fits failed with the following error:\n",
      "Traceback (most recent call last):\n",
      "  File \"c:\\Users\\prasa\\AppData\\Local\\Programs\\Python\\Python38\\lib\\site-packages\\sklearn\\model_selection\\_validation.py\", line 729, in _fit_and_score\n",
      "    estimator.fit(X_train, y_train, **fit_params)\n",
      "  File \"c:\\Users\\prasa\\AppData\\Local\\Programs\\Python\\Python38\\lib\\site-packages\\xgboost\\core.py\", line 726, in inner_f\n",
      "    return func(**kwargs)\n",
      "  File \"c:\\Users\\prasa\\AppData\\Local\\Programs\\Python\\Python38\\lib\\site-packages\\xgboost\\sklearn.py\", line 1143, in fit\n",
      "    train_dmatrix, evals = _wrap_evaluation_matrices(\n",
      "  File \"c:\\Users\\prasa\\AppData\\Local\\Programs\\Python\\Python38\\lib\\site-packages\\xgboost\\sklearn.py\", line 603, in _wrap_evaluation_matrices\n",
      "    train_dmatrix = create_dmatrix(\n",
      "  File \"c:\\Users\\prasa\\AppData\\Local\\Programs\\Python\\Python38\\lib\\site-packages\\xgboost\\sklearn.py\", line 1065, in _create_dmatrix\n",
      "    return QuantileDMatrix(\n",
      "  File \"c:\\Users\\prasa\\AppData\\Local\\Programs\\Python\\Python38\\lib\\site-packages\\xgboost\\core.py\", line 726, in inner_f\n",
      "    return func(**kwargs)\n",
      "  File \"c:\\Users\\prasa\\AppData\\Local\\Programs\\Python\\Python38\\lib\\site-packages\\xgboost\\core.py\", line 1573, in __init__\n",
      "    self._init(\n",
      "  File \"c:\\Users\\prasa\\AppData\\Local\\Programs\\Python\\Python38\\lib\\site-packages\\xgboost\\core.py\", line 1632, in _init\n",
      "    it.reraise()\n",
      "  File \"c:\\Users\\prasa\\AppData\\Local\\Programs\\Python\\Python38\\lib\\site-packages\\xgboost\\core.py\", line 569, in reraise\n",
      "    raise exc  # pylint: disable=raising-bad-type\n",
      "  File \"c:\\Users\\prasa\\AppData\\Local\\Programs\\Python\\Python38\\lib\\site-packages\\xgboost\\core.py\", line 550, in _handle_exception\n",
      "    return fn()\n",
      "  File \"c:\\Users\\prasa\\AppData\\Local\\Programs\\Python\\Python38\\lib\\site-packages\\xgboost\\core.py\", line 637, in <lambda>\n",
      "    return self._handle_exception(lambda: self.next(input_data), 0)\n",
      "  File \"c:\\Users\\prasa\\AppData\\Local\\Programs\\Python\\Python38\\lib\\site-packages\\xgboost\\data.py\", line 1402, in next\n",
      "    input_data(**self.kwargs)\n",
      "  File \"c:\\Users\\prasa\\AppData\\Local\\Programs\\Python\\Python38\\lib\\site-packages\\xgboost\\core.py\", line 726, in inner_f\n",
      "    return func(**kwargs)\n",
      "  File \"c:\\Users\\prasa\\AppData\\Local\\Programs\\Python\\Python38\\lib\\site-packages\\xgboost\\core.py\", line 626, in input_data\n",
      "    self.proxy.set_info(\n",
      "  File \"c:\\Users\\prasa\\AppData\\Local\\Programs\\Python\\Python38\\lib\\site-packages\\xgboost\\core.py\", line 726, in inner_f\n",
      "    return func(**kwargs)\n",
      "  File \"c:\\Users\\prasa\\AppData\\Local\\Programs\\Python\\Python38\\lib\\site-packages\\xgboost\\core.py\", line 954, in set_info\n",
      "    self.set_label(label)\n",
      "  File \"c:\\Users\\prasa\\AppData\\Local\\Programs\\Python\\Python38\\lib\\site-packages\\xgboost\\core.py\", line 1092, in set_label\n",
      "    dispatch_meta_backend(self, label, \"label\", \"float\")\n",
      "  File \"c:\\Users\\prasa\\AppData\\Local\\Programs\\Python\\Python38\\lib\\site-packages\\xgboost\\data.py\", line 1348, in dispatch_meta_backend\n",
      "    _meta_from_pandas_series(data, name, dtype, handle)\n",
      "  File \"c:\\Users\\prasa\\AppData\\Local\\Programs\\Python\\Python38\\lib\\site-packages\\xgboost\\data.py\", line 679, in _meta_from_pandas_series\n",
      "    _meta_from_numpy(data, name, dtype, handle)\n",
      "  File \"c:\\Users\\prasa\\AppData\\Local\\Programs\\Python\\Python38\\lib\\site-packages\\xgboost\\data.py\", line 1279, in _meta_from_numpy\n",
      "    _check_call(_LIB.XGDMatrixSetInfoFromInterface(handle, c_str(field), interface_str))\n",
      "  File \"c:\\Users\\prasa\\AppData\\Local\\Programs\\Python\\Python38\\lib\\site-packages\\xgboost\\core.py\", line 284, in _check_call\n",
      "    raise XGBoostError(py_str(_LIB.XGBGetLastError()))\n",
      "xgboost.core.XGBoostError: [13:01:50] C:\\buildkite-agent\\builds\\buildkite-windows-cpu-autoscaling-group-i-08cbc0333d8d4aae1-1\\xgboost\\xgboost-ci-windows\\src\\data\\array_interface.cu:44: Check failed: err == cudaGetLastError() (0 vs. 46) : \n",
      "\n",
      "  warnings.warn(some_fits_failed_message, FitFailedWarning)\n",
      "c:\\Users\\prasa\\AppData\\Local\\Programs\\Python\\Python38\\lib\\site-packages\\sklearn\\model_selection\\_search.py:979: UserWarning: One or more of the test scores are non-finite: [        nan         nan         nan         nan         nan -0.51024836\n",
      " -0.50338596 -0.4883326 ]\n",
      "  warnings.warn(\n"
     ]
    },
    {
     "name": "stdout",
     "output_type": "stream",
     "text": [
      "✅ Best RMSE (Regressor): 0.4883325983920834\n",
      "Best Parameters: {'colsample_bytree': 0.8, 'learning_rate': 0.1, 'max_depth': 5, 'n_estimators': 200, 'subsample': 0.8}\n"
     ]
    }
   ],
   "source": [
    "# 1. Split data\n",
    "from sklearn.model_selection import train_test_split\n",
    "X = df_scaled.drop('selling_price', axis=1)\n",
    "y = df_scaled['selling_price']\n",
    "X_train, X_test, y_train, y_test = train_test_split(X, y, test_size=0.2, random_state=42)\n",
    "\n",
    "# 2. Grid Search\n",
    "from sklearn.model_selection import GridSearchCV\n",
    "from xgboost import XGBRegressor\n",
    "\n",
    "reg_params = {\n",
    "    'n_estimators': [100, 200],\n",
    "    'learning_rate': [0.05, 0.1],\n",
    "    'max_depth': [3, 5],\n",
    "    'subsample': [0.8],\n",
    "    'colsample_bytree': [0.8]\n",
    "}\n",
    "\n",
    "xgb_reg = XGBRegressor(random_state=42)\n",
    "reg_grid = GridSearchCV(estimator=xgb_reg,\n",
    "                        param_grid=reg_params,\n",
    "                        cv=3,\n",
    "                        scoring='neg_root_mean_squared_error',\n",
    "                        verbose=1,\n",
    "                        n_jobs=-1)\n",
    "\n",
    "reg_grid.fit(X_train, y_train)\n",
    "\n",
    "# 3. View best results\n",
    "print(\"✅ Best RMSE (Regressor):\", -reg_grid.best_score_)\n",
    "print(\"Best Parameters:\", reg_grid.best_params_)\n",
    "\n"
   ]
  },
  {
   "cell_type": "markdown",
   "id": "c08b870b",
   "metadata": {},
   "source": [
    "Evaluate on Test Data"
   ]
  },
  {
   "cell_type": "code",
   "execution_count": 25,
   "id": "f896aaf4",
   "metadata": {},
   "outputs": [
    {
     "name": "stdout",
     "output_type": "stream",
     "text": [
      "🔍 Test RMSE: 0.31951549386240147\n",
      "📉 Test MAE: 0.18267257923969163\n",
      "📈 R² Score: 0.8903901129200025\n"
     ]
    },
    {
     "data": {
      "image/png": "[encoded data removed]",
      "text/plain": [
       "<Figure size 800x500 with 1 Axes>"
      ]
     },
     "metadata": {},
     "output_type": "display_data"
    }
   ],
   "source": [
    "#Evaluation Code:\n",
    "\n",
    "from sklearn.metrics import mean_squared_error, mean_absolute_error, r2_score\n",
    "import numpy as np\n",
    "import matplotlib.pyplot as plt\n",
    "\n",
    "# 1. Get best estimator\n",
    "best_reg = reg_grid.best_estimator_\n",
    "\n",
    "# 2. Predict on test set\n",
    "y_pred = best_reg.predict(X_test)\n",
    "\n",
    "# 3. Evaluation metrics\n",
    "rmse = np.sqrt(mean_squared_error(y_test, y_pred))\n",
    "mae = mean_absolute_error(y_test, y_pred)\n",
    "r2 = r2_score(y_test, y_pred)\n",
    "\n",
    "print(\"🔍 Test RMSE:\", rmse)\n",
    "print(\"📉 Test MAE:\", mae)\n",
    "print(\"📈 R² Score:\", r2)\n",
    "\n",
    "# 4. Visualization (Optional but useful)\n",
    "plt.figure(figsize=(8,5))\n",
    "plt.scatter(y_test, y_pred, alpha=0.3)\n",
    "plt.xlabel(\"Actual Selling Price\")\n",
    "plt.ylabel(\"Predicted Selling Price\")\n",
    "plt.title(\"Actual vs Predicted Selling Price\")\n",
    "plt.grid(True)\n",
    "plt.show()\n"
   ]
  },
  {
   "cell_type": "markdown",
   "id": "088ffe08",
   "metadata": {},
   "source": [
    " Regression Model Evaluation Summary\n",
    "Test RMSE: 0.3199 → Low error in prediction (in log-transformed space).\n",
    "\n",
    "Test MAE: 0.1809 → On average, predictions are off by ~0.18 (log space).\n",
    "\n",
    "R² Score: 0.89 → Model explains 89% of the variance in selling price. That’s a strong performance!\n",
    "\n",
    "Plot Insight: Most predictions are well aligned along the diagonal, though there are a few outliers — typical in real-world manufacturing data."
   ]
  },
  {
   "cell_type": "markdown",
   "id": "91fbf99e",
   "metadata": {},
   "source": [
    "Classification Task — Predicting status"
   ]
  },
  {
   "cell_type": "code",
   "execution_count": 26,
   "id": "facf55fa",
   "metadata": {},
   "outputs": [
    {
     "name": "stdout",
     "output_type": "stream",
     "text": [
      "Fitting 3 folds for each of 8 candidates, totalling 24 fits\n"
     ]
    },
    {
     "ename": "ValueError",
     "evalue": "\nAll the 24 fits failed.\nIt is very likely that your model is misconfigured.\nYou can try to debug the error by setting error_score='raise'.\n\nBelow are more details about the failures:\n--------------------------------------------------------------------------------\n24 fits failed with the following error:\nTraceback (most recent call last):\n  File \"c:\\Users\\prasa\\AppData\\Local\\Programs\\Python\\Python38\\lib\\site-packages\\sklearn\\model_selection\\_validation.py\", line 729, in _fit_and_score\n    estimator.fit(X_train, y_train, **fit_params)\n  File \"c:\\Users\\prasa\\AppData\\Local\\Programs\\Python\\Python38\\lib\\site-packages\\xgboost\\core.py\", line 726, in inner_f\n    return func(**kwargs)\n  File \"c:\\Users\\prasa\\AppData\\Local\\Programs\\Python\\Python38\\lib\\site-packages\\xgboost\\sklearn.py\", line 1559, in fit\n    raise ValueError(\nValueError: Invalid classes inferred from unique values of `y`.  Expected: [0 1], got [-1.32922697  0.75231696]\n",
     "output_type": "error",
     "traceback": [
      "\u001b[1;31m---------------------------------------------------------------------------\u001b[0m",
      "\u001b[1;31mValueError\u001b[0m                                Traceback (most recent call last)",
      "Cell \u001b[1;32mIn[26], line 28\u001b[0m\n\u001b[0;32m     20\u001b[0m xgb_clf \u001b[38;5;241m=\u001b[39m XGBClassifier(random_state\u001b[38;5;241m=\u001b[39m\u001b[38;5;241m42\u001b[39m, use_label_encoder\u001b[38;5;241m=\u001b[39m\u001b[38;5;28;01mFalse\u001b[39;00m, eval_metric\u001b[38;5;241m=\u001b[39m\u001b[38;5;124m'\u001b[39m\u001b[38;5;124mlogloss\u001b[39m\u001b[38;5;124m'\u001b[39m)\n\u001b[0;32m     21\u001b[0m clf_grid \u001b[38;5;241m=\u001b[39m GridSearchCV(estimator\u001b[38;5;241m=\u001b[39mxgb_clf,\n\u001b[0;32m     22\u001b[0m                         param_grid\u001b[38;5;241m=\u001b[39mclf_params,\n\u001b[0;32m     23\u001b[0m                         cv\u001b[38;5;241m=\u001b[39m\u001b[38;5;241m3\u001b[39m,\n\u001b[0;32m     24\u001b[0m                         scoring\u001b[38;5;241m=\u001b[39m\u001b[38;5;124m'\u001b[39m\u001b[38;5;124mf1\u001b[39m\u001b[38;5;124m'\u001b[39m,\n\u001b[0;32m     25\u001b[0m                         verbose\u001b[38;5;241m=\u001b[39m\u001b[38;5;241m1\u001b[39m,\n\u001b[0;32m     26\u001b[0m                         n_jobs\u001b[38;5;241m=\u001b[39m\u001b[38;5;241m-\u001b[39m\u001b[38;5;241m1\u001b[39m)\n\u001b[1;32m---> 28\u001b[0m \u001b[43mclf_grid\u001b[49m\u001b[38;5;241;43m.\u001b[39;49m\u001b[43mfit\u001b[49m\u001b[43m(\u001b[49m\u001b[43mXc_train\u001b[49m\u001b[43m,\u001b[49m\u001b[43m \u001b[49m\u001b[43myc_train\u001b[49m\u001b[43m)\u001b[49m\n\u001b[0;32m     30\u001b[0m \u001b[38;5;66;03m# Step 4: Evaluate\u001b[39;00m\n\u001b[0;32m     31\u001b[0m y_pred_clf \u001b[38;5;241m=\u001b[39m clf_grid\u001b[38;5;241m.\u001b[39mpredict(Xc_test)\n",
      "File \u001b[1;32mc:\\Users\\prasa\\AppData\\Local\\Programs\\Python\\Python38\\lib\\site-packages\\sklearn\\base.py:1152\u001b[0m, in \u001b[0;36m_fit_context.<locals>.decorator.<locals>.wrapper\u001b[1;34m(estimator, *args, **kwargs)\u001b[0m\n\u001b[0;32m   1145\u001b[0m     estimator\u001b[38;5;241m.\u001b[39m_validate_params()\n\u001b[0;32m   1147\u001b[0m \u001b[38;5;28;01mwith\u001b[39;00m config_context(\n\u001b[0;32m   1148\u001b[0m     skip_parameter_validation\u001b[38;5;241m=\u001b[39m(\n\u001b[0;32m   1149\u001b[0m         prefer_skip_nested_validation \u001b[38;5;129;01mor\u001b[39;00m global_skip_validation\n\u001b[0;32m   1150\u001b[0m     )\n\u001b[0;32m   1151\u001b[0m ):\n\u001b[1;32m-> 1152\u001b[0m     \u001b[38;5;28;01mreturn\u001b[39;00m \u001b[43mfit_method\u001b[49m\u001b[43m(\u001b[49m\u001b[43mestimator\u001b[49m\u001b[43m,\u001b[49m\u001b[43m \u001b[49m\u001b[38;5;241;43m*\u001b[39;49m\u001b[43margs\u001b[49m\u001b[43m,\u001b[49m\u001b[43m \u001b[49m\u001b[38;5;241;43m*\u001b[39;49m\u001b[38;5;241;43m*\u001b[39;49m\u001b[43mkwargs\u001b[49m\u001b[43m)\u001b[49m\n",
      "File \u001b[1;32mc:\\Users\\prasa\\AppData\\Local\\Programs\\Python\\Python38\\lib\\site-packages\\sklearn\\model_selection\\_search.py:898\u001b[0m, in \u001b[0;36mBaseSearchCV.fit\u001b[1;34m(self, X, y, groups, **fit_params)\u001b[0m\n\u001b[0;32m    892\u001b[0m     results \u001b[38;5;241m=\u001b[39m \u001b[38;5;28mself\u001b[39m\u001b[38;5;241m.\u001b[39m_format_results(\n\u001b[0;32m    893\u001b[0m         all_candidate_params, n_splits, all_out, all_more_results\n\u001b[0;32m    894\u001b[0m     )\n\u001b[0;32m    896\u001b[0m     \u001b[38;5;28;01mreturn\u001b[39;00m results\n\u001b[1;32m--> 898\u001b[0m \u001b[38;5;28;43mself\u001b[39;49m\u001b[38;5;241;43m.\u001b[39;49m\u001b[43m_run_search\u001b[49m\u001b[43m(\u001b[49m\u001b[43mevaluate_candidates\u001b[49m\u001b[43m)\u001b[49m\n\u001b[0;32m    900\u001b[0m \u001b[38;5;66;03m# multimetric is determined here because in the case of a callable\u001b[39;00m\n\u001b[0;32m    901\u001b[0m \u001b[38;5;66;03m# self.scoring the return type is only known after calling\u001b[39;00m\n\u001b[0;32m    902\u001b[0m first_test_score \u001b[38;5;241m=\u001b[39m all_out[\u001b[38;5;241m0\u001b[39m][\u001b[38;5;124m\"\u001b[39m\u001b[38;5;124mtest_scores\u001b[39m\u001b[38;5;124m\"\u001b[39m]\n",
      "File \u001b[1;32mc:\\Users\\prasa\\AppData\\Local\\Programs\\Python\\Python38\\lib\\site-packages\\sklearn\\model_selection\\_search.py:1422\u001b[0m, in \u001b[0;36mGridSearchCV._run_search\u001b[1;34m(self, evaluate_candidates)\u001b[0m\n\u001b[0;32m   1420\u001b[0m \u001b[38;5;28;01mdef\u001b[39;00m\u001b[38;5;250m \u001b[39m\u001b[38;5;21m_run_search\u001b[39m(\u001b[38;5;28mself\u001b[39m, evaluate_candidates):\n\u001b[0;32m   1421\u001b[0m \u001b[38;5;250m    \u001b[39m\u001b[38;5;124;03m\"\"\"Search all candidates in param_grid\"\"\"\u001b[39;00m\n\u001b[1;32m-> 1422\u001b[0m     \u001b[43mevaluate_candidates\u001b[49m\u001b[43m(\u001b[49m\u001b[43mParameterGrid\u001b[49m\u001b[43m(\u001b[49m\u001b[38;5;28;43mself\u001b[39;49m\u001b[38;5;241;43m.\u001b[39;49m\u001b[43mparam_grid\u001b[49m\u001b[43m)\u001b[49m\u001b[43m)\u001b[49m\n",
      "File \u001b[1;32mc:\\Users\\prasa\\AppData\\Local\\Programs\\Python\\Python38\\lib\\site-packages\\sklearn\\model_selection\\_search.py:875\u001b[0m, in \u001b[0;36mBaseSearchCV.fit.<locals>.evaluate_candidates\u001b[1;34m(candidate_params, cv, more_results)\u001b[0m\n\u001b[0;32m    868\u001b[0m \u001b[38;5;28;01melif\u001b[39;00m \u001b[38;5;28mlen\u001b[39m(out) \u001b[38;5;241m!=\u001b[39m n_candidates \u001b[38;5;241m*\u001b[39m n_splits:\n\u001b[0;32m    869\u001b[0m     \u001b[38;5;28;01mraise\u001b[39;00m \u001b[38;5;167;01mValueError\u001b[39;00m(\n\u001b[0;32m    870\u001b[0m         \u001b[38;5;124m\"\u001b[39m\u001b[38;5;124mcv.split and cv.get_n_splits returned \u001b[39m\u001b[38;5;124m\"\u001b[39m\n\u001b[0;32m    871\u001b[0m         \u001b[38;5;124m\"\u001b[39m\u001b[38;5;124minconsistent results. Expected \u001b[39m\u001b[38;5;132;01m{}\u001b[39;00m\u001b[38;5;124m \u001b[39m\u001b[38;5;124m\"\u001b[39m\n\u001b[0;32m    872\u001b[0m         \u001b[38;5;124m\"\u001b[39m\u001b[38;5;124msplits, got \u001b[39m\u001b[38;5;132;01m{}\u001b[39;00m\u001b[38;5;124m\"\u001b[39m\u001b[38;5;241m.\u001b[39mformat(n_splits, \u001b[38;5;28mlen\u001b[39m(out) \u001b[38;5;241m/\u001b[39m\u001b[38;5;241m/\u001b[39m n_candidates)\n\u001b[0;32m    873\u001b[0m     )\n\u001b[1;32m--> 875\u001b[0m \u001b[43m_warn_or_raise_about_fit_failures\u001b[49m\u001b[43m(\u001b[49m\u001b[43mout\u001b[49m\u001b[43m,\u001b[49m\u001b[43m \u001b[49m\u001b[38;5;28;43mself\u001b[39;49m\u001b[38;5;241;43m.\u001b[39;49m\u001b[43merror_score\u001b[49m\u001b[43m)\u001b[49m\n\u001b[0;32m    877\u001b[0m \u001b[38;5;66;03m# For callable self.scoring, the return type is only know after\u001b[39;00m\n\u001b[0;32m    878\u001b[0m \u001b[38;5;66;03m# calling. If the return type is a dictionary, the error scores\u001b[39;00m\n\u001b[0;32m    879\u001b[0m \u001b[38;5;66;03m# can now be inserted with the correct key. The type checking\u001b[39;00m\n\u001b[0;32m    880\u001b[0m \u001b[38;5;66;03m# of out will be done in `_insert_error_scores`.\u001b[39;00m\n\u001b[0;32m    881\u001b[0m \u001b[38;5;28;01mif\u001b[39;00m \u001b[38;5;28mcallable\u001b[39m(\u001b[38;5;28mself\u001b[39m\u001b[38;5;241m.\u001b[39mscoring):\n",
      "File \u001b[1;32mc:\\Users\\prasa\\AppData\\Local\\Programs\\Python\\Python38\\lib\\site-packages\\sklearn\\model_selection\\_validation.py:414\u001b[0m, in \u001b[0;36m_warn_or_raise_about_fit_failures\u001b[1;34m(results, error_score)\u001b[0m\n\u001b[0;32m    407\u001b[0m \u001b[38;5;28;01mif\u001b[39;00m num_failed_fits \u001b[38;5;241m==\u001b[39m num_fits:\n\u001b[0;32m    408\u001b[0m     all_fits_failed_message \u001b[38;5;241m=\u001b[39m (\n\u001b[0;32m    409\u001b[0m         \u001b[38;5;124mf\u001b[39m\u001b[38;5;124m\"\u001b[39m\u001b[38;5;130;01m\\n\u001b[39;00m\u001b[38;5;124mAll the \u001b[39m\u001b[38;5;132;01m{\u001b[39;00mnum_fits\u001b[38;5;132;01m}\u001b[39;00m\u001b[38;5;124m fits failed.\u001b[39m\u001b[38;5;130;01m\\n\u001b[39;00m\u001b[38;5;124m\"\u001b[39m\n\u001b[0;32m    410\u001b[0m         \u001b[38;5;124m\"\u001b[39m\u001b[38;5;124mIt is very likely that your model is misconfigured.\u001b[39m\u001b[38;5;130;01m\\n\u001b[39;00m\u001b[38;5;124m\"\u001b[39m\n\u001b[0;32m    411\u001b[0m         \u001b[38;5;124m\"\u001b[39m\u001b[38;5;124mYou can try to debug the error by setting error_score=\u001b[39m\u001b[38;5;124m'\u001b[39m\u001b[38;5;124mraise\u001b[39m\u001b[38;5;124m'\u001b[39m\u001b[38;5;124m.\u001b[39m\u001b[38;5;130;01m\\n\u001b[39;00m\u001b[38;5;130;01m\\n\u001b[39;00m\u001b[38;5;124m\"\u001b[39m\n\u001b[0;32m    412\u001b[0m         \u001b[38;5;124mf\u001b[39m\u001b[38;5;124m\"\u001b[39m\u001b[38;5;124mBelow are more details about the failures:\u001b[39m\u001b[38;5;130;01m\\n\u001b[39;00m\u001b[38;5;132;01m{\u001b[39;00mfit_errors_summary\u001b[38;5;132;01m}\u001b[39;00m\u001b[38;5;124m\"\u001b[39m\n\u001b[0;32m    413\u001b[0m     )\n\u001b[1;32m--> 414\u001b[0m     \u001b[38;5;28;01mraise\u001b[39;00m \u001b[38;5;167;01mValueError\u001b[39;00m(all_fits_failed_message)\n\u001b[0;32m    416\u001b[0m \u001b[38;5;28;01melse\u001b[39;00m:\n\u001b[0;32m    417\u001b[0m     some_fits_failed_message \u001b[38;5;241m=\u001b[39m (\n\u001b[0;32m    418\u001b[0m         \u001b[38;5;124mf\u001b[39m\u001b[38;5;124m\"\u001b[39m\u001b[38;5;130;01m\\n\u001b[39;00m\u001b[38;5;132;01m{\u001b[39;00mnum_failed_fits\u001b[38;5;132;01m}\u001b[39;00m\u001b[38;5;124m fits failed out of a total of \u001b[39m\u001b[38;5;132;01m{\u001b[39;00mnum_fits\u001b[38;5;132;01m}\u001b[39;00m\u001b[38;5;124m.\u001b[39m\u001b[38;5;130;01m\\n\u001b[39;00m\u001b[38;5;124m\"\u001b[39m\n\u001b[0;32m    419\u001b[0m         \u001b[38;5;124m\"\u001b[39m\u001b[38;5;124mThe score on these train-test partitions for these parameters\u001b[39m\u001b[38;5;124m\"\u001b[39m\n\u001b[1;32m   (...)\u001b[0m\n\u001b[0;32m    423\u001b[0m         \u001b[38;5;124mf\u001b[39m\u001b[38;5;124m\"\u001b[39m\u001b[38;5;124mBelow are more details about the failures:\u001b[39m\u001b[38;5;130;01m\\n\u001b[39;00m\u001b[38;5;132;01m{\u001b[39;00mfit_errors_summary\u001b[38;5;132;01m}\u001b[39;00m\u001b[38;5;124m\"\u001b[39m\n\u001b[0;32m    424\u001b[0m     )\n",
      "\u001b[1;31mValueError\u001b[0m: \nAll the 24 fits failed.\nIt is very likely that your model is misconfigured.\nYou can try to debug the error by setting error_score='raise'.\n\nBelow are more details about the failures:\n--------------------------------------------------------------------------------\n24 fits failed with the following error:\nTraceback (most recent call last):\n  File \"c:\\Users\\prasa\\AppData\\Local\\Programs\\Python\\Python38\\lib\\site-packages\\sklearn\\model_selection\\_validation.py\", line 729, in _fit_and_score\n    estimator.fit(X_train, y_train, **fit_params)\n  File \"c:\\Users\\prasa\\AppData\\Local\\Programs\\Python\\Python38\\lib\\site-packages\\xgboost\\core.py\", line 726, in inner_f\n    return func(**kwargs)\n  File \"c:\\Users\\prasa\\AppData\\Local\\Programs\\Python\\Python38\\lib\\site-packages\\xgboost\\sklearn.py\", line 1559, in fit\n    raise ValueError(\nValueError: Invalid classes inferred from unique values of `y`.  Expected: [0 1], got [-1.32922697  0.75231696]\n"
     ]
    }
   ],
   "source": [
    "from xgboost import XGBClassifier\n",
    "from sklearn.model_selection import train_test_split, GridSearchCV\n",
    "from sklearn.metrics import classification_report, confusion_matrix, accuracy_score\n",
    "\n",
    "# Step 1: Prepare classification data\n",
    "df_class = df_scaled.copy()\n",
    "y_class = df_class['status_Won']  # Example: binary classification - 'Won' vs others\n",
    "X_class = df_class.drop(['status_Won'], axis=1)\n",
    "\n",
    "# Step 2: Train-test split\n",
    "Xc_train, Xc_test, yc_train, yc_test = train_test_split(X_class, y_class, test_size=0.2, random_state=42)\n",
    "\n",
    "# Step 3: Model & Grid Search\n",
    "clf_params = {\n",
    "    'n_estimators': [100, 200],\n",
    "    'learning_rate': [0.05, 0.1],\n",
    "    'max_depth': [3, 5]\n",
    "}\n",
    "\n",
    "xgb_clf = XGBClassifier(random_state=42, use_label_encoder=False, eval_metric='logloss')\n",
    "clf_grid = GridSearchCV(estimator=xgb_clf,\n",
    "                        param_grid=clf_params,\n",
    "                        cv=3,\n",
    "                        scoring='f1',\n",
    "                        verbose=1,\n",
    "                        n_jobs=-1)\n",
    "\n",
    "clf_grid.fit(Xc_train, yc_train)\n",
    "\n",
    "# Step 4: Evaluate\n",
    "y_pred_clf = clf_grid.predict(Xc_test)\n",
    "print(\"✅ Best F1 Score:\", clf_grid.best_score_)\n",
    "print(\"Best Parameters:\", clf_grid.best_params_)\n",
    "print(\"\\n📊 Classification Report:\\n\", classification_report(yc_test, y_pred_clf))\n"
   ]
  },
  {
   "cell_type": "code",
   "execution_count": null,
   "id": "68976da2",
   "metadata": {},
   "outputs": [
    {
     "name": "stdout",
     "output_type": "stream",
     "text": [
      "Fitting 3 folds for each of 8 candidates, totalling 24 fits\n"
     ]
    },
    {
     "name": "stderr",
     "output_type": "stream",
     "text": [
      "c:\\Users\\prasa\\AppData\\Local\\Programs\\Python\\Python313\\Lib\\site-packages\\xgboost\\training.py:183: UserWarning: [19:26:39] WARNING: C:\\actions-runner\\_work\\xgboost\\xgboost\\src\\learner.cc:738: \n",
      "Parameters: { \"use_label_encoder\" } are not used.\n",
      "\n",
      "  bst.update(dtrain, iteration=i, fobj=obj)\n"
     ]
    },
    {
     "name": "stdout",
     "output_type": "stream",
     "text": [
      "✅ Best F1 Score: 0.9998976286424246\n",
      "Best Parameters: {'learning_rate': 0.1, 'max_depth': 5, 'n_estimators': 200}\n",
      "\n",
      "📊 Classification Report:\n",
      "               precision    recall  f1-score   support\n",
      "\n",
      "       False       1.00      1.00      1.00     13122\n",
      "        True       1.00      1.00      1.00     23213\n",
      "\n",
      "    accuracy                           1.00     36335\n",
      "   macro avg       1.00      1.00      1.00     36335\n",
      "weighted avg       1.00      1.00      1.00     36335\n",
      "\n"
     ]
    }
   ],
   "source": [
    "# Recreate classification dataset from pre-scaled data\n",
    "# If df_scaled is all scaled, go back one step to df_encoded before scaling\n",
    "df_encoded = df.drop(['id', 'material_ref'], axis=1)  # this is just before scaling step\n",
    "\n",
    "# Binary target for classification: Predict if 'status' is 'Won'\n",
    "y_class = df_encoded['status_Won']  # This will be 0 or 1\n",
    "X_class = df_encoded.drop(['status_Won'], axis=1)\n",
    "\n",
    "# Split\n",
    "from sklearn.model_selection import train_test_split\n",
    "Xc_train, Xc_test, yc_train, yc_test = train_test_split(X_class, y_class, test_size=0.2, random_state=42)\n",
    "\n",
    "# Train model with GridSearch\n",
    "from xgboost import XGBClassifier\n",
    "from sklearn.model_selection import GridSearchCV\n",
    "from sklearn.metrics import classification_report\n",
    "\n",
    "clf_params = {\n",
    "    'n_estimators': [100, 200],\n",
    "    'learning_rate': [0.05, 0.1],\n",
    "    'max_depth': [3, 5]\n",
    "}\n",
    "\n",
    "xgb_clf = XGBClassifier(random_state=42, use_label_encoder=False, eval_metric='logloss')\n",
    "\n",
    "clf_grid = GridSearchCV(estimator=xgb_clf,\n",
    "                        param_grid=clf_params,\n",
    "                        cv=3,\n",
    "                        scoring='f1',\n",
    "                        verbose=1,\n",
    "                        n_jobs=-1)\n",
    "\n",
    "clf_grid.fit(Xc_train, yc_train)\n",
    "\n",
    "# Evaluate\n",
    "y_pred_clf = clf_grid.predict(Xc_test)\n",
    "print(\"✅ Best F1 Score:\", clf_grid.best_score_)\n",
    "print(\"Best Parameters:\", clf_grid.best_params_)\n",
    "print(\"\\n📊 Classification Report:\\n\", classification_report(yc_test, y_pred_clf))\n"
   ]
  },
  {
   "cell_type": "markdown",
   "id": "00669a08",
   "metadata": {},
   "source": [
    "Save All Models & Transformers"
   ]
  },
  {
   "cell_type": "code",
   "execution_count": null,
   "id": "d8dae906",
   "metadata": {},
   "outputs": [],
   "source": [
    "import pickle\n",
    "\n",
    "# Save models\n",
    "with open('xgb_regressor.pkl', 'wb') as f:\n",
    "    pickle.dump(best_reg, f)\n",
    "\n",
    "with open('xgb_classifier.pkl', 'wb') as f:\n",
    "    pickle.dump(clf_grid.best_estimator_, f)\n",
    "\n",
    "with open('scaler.pkl', 'wb') as f:\n",
    "    pickle.dump(scaler, f)\n"
   ]
  },
  {
   "cell_type": "code",
   "execution_count": null,
   "id": "e895e1b9",
   "metadata": {},
   "outputs": [],
   "source": [
    "import pickle\n",
    "\n",
    "# Save models\n",
    "pickle.dump(reg_grid.best_estimator_, open(\"xgb_regressor.pkl\", \"wb\"))\n",
    "pickle.dump(clf_grid.best_estimator_, open(\"xgb_classifier.pkl\", \"wb\"))\n",
    "pickle.dump(scaler, open(\"scaler.pkl\", \"wb\"))\n"
   ]
  },
  {
   "cell_type": "code",
   "execution_count": null,
   "id": "a70b19c0",
   "metadata": {},
   "outputs": [],
   "source": [
    "scaler = joblib.load('scaler.pkl')\n",
    "reg_model = joblib.load('reg_model.pkl')\n",
    "clf_model = joblib.load('clf_model.pkl')\n"
   ]
  },
  {
   "cell_type": "code",
   "execution_count": null,
   "id": "9a364a2e",
   "metadata": {},
   "outputs": [
    {
     "name": "stdout",
     "output_type": "stream",
     "text": [
      "✅ scaler.pkl saved\n"
     ]
    }
   ],
   "source": [
    "import joblib\n",
    "from sklearn.preprocessing import StandardScaler\n",
    "from sklearn.model_selection import train_test_split\n",
    "from xgboost import XGBRegressor, XGBClassifier\n",
    "\n",
    "# Split features and target for regression\n",
    "X = df_scaled.drop('selling_price', axis=1)\n",
    "y = df_scaled['selling_price']\n",
    "\n",
    "# Recreate scaler and fit\n",
    "scaler = StandardScaler()\n",
    "scaler.fit(X)\n",
    "joblib.dump(scaler, 'scaler.pkl')\n",
    "print(\"✅ scaler.pkl saved\")\n"
   ]
  },
  {
   "cell_type": "code",
   "execution_count": null,
   "id": "01da200b",
   "metadata": {},
   "outputs": [
    {
     "name": "stdout",
     "output_type": "stream",
     "text": [
      "✅ reg_model.pkl saved\n"
     ]
    }
   ],
   "source": [
    "# Split data for regression\n",
    "X_train, X_test, y_train, y_test = train_test_split(X, y, random_state=42)\n",
    "\n",
    "xgb_reg = XGBRegressor(colsample_bytree=0.8,\n",
    "                       learning_rate=0.1,\n",
    "                       max_depth=5,\n",
    "                       n_estimators=200,\n",
    "                       subsample=0.8,\n",
    "                       random_state=42)\n",
    "xgb_reg.fit(X_train, y_train)\n",
    "joblib.dump(xgb_reg, 'reg_model.pkl')\n",
    "print(\"✅ reg_model.pkl saved\")\n"
   ]
  },
  {
   "cell_type": "code",
   "execution_count": null,
   "id": "0ac18910",
   "metadata": {},
   "outputs": [
    {
     "name": "stderr",
     "output_type": "stream",
     "text": [
      "c:\\Users\\prasa\\AppData\\Local\\Programs\\Python\\Python313\\Lib\\site-packages\\xgboost\\training.py:183: UserWarning: [20:03:08] WARNING: C:\\actions-runner\\_work\\xgboost\\xgboost\\src\\learner.cc:738: \n",
      "Parameters: { \"use_label_encoder\" } are not used.\n",
      "\n",
      "  bst.update(dtrain, iteration=i, fobj=obj)\n"
     ]
    },
    {
     "name": "stdout",
     "output_type": "stream",
     "text": [
      "✅ clf_model.pkl saved successfully\n"
     ]
    }
   ],
   "source": [
    "# Use unscaled status_Won as target\n",
    "yc = df['status_Won']  # df is the original DataFrame, before scaling\n",
    "Xc = df_scaled.drop('status_Won', axis=1)\n",
    "\n",
    "from sklearn.model_selection import train_test_split\n",
    "from xgboost import XGBClassifier\n",
    "import joblib\n",
    "\n",
    "Xc_train, Xc_test, yc_train, yc_test = train_test_split(Xc, yc, random_state=42)\n",
    "\n",
    "xgb_clf = XGBClassifier(colsample_bytree=0.8,\n",
    "                        learning_rate=0.1,\n",
    "                        max_depth=5,\n",
    "                        n_estimators=200,\n",
    "                        subsample=0.8,\n",
    "                        random_state=42,\n",
    "                        use_label_encoder=False,\n",
    "                        eval_metric='logloss')\n",
    "\n",
    "xgb_clf.fit(Xc_train, yc_train)\n",
    "joblib.dump(xgb_clf, 'clf_model.pkl')\n",
    "print(\"✅ clf_model.pkl saved successfully\")\n"
   ]
  },
  {
   "cell_type": "code",
   "execution_count": null,
   "id": "e21de785",
   "metadata": {},
   "outputs": [
    {
     "name": "stdout",
     "output_type": "stream",
     "text": [
      "✅ All models and scaler saved in Python 3.8 environment ✅\n"
     ]
    },
    {
     "name": "stderr",
     "output_type": "stream",
     "text": [
      "c:\\Users\\prasa\\AppData\\Local\\Programs\\Python\\Python313\\Lib\\site-packages\\xgboost\\training.py:183: UserWarning: [13:02:28] WARNING: C:\\actions-runner\\_work\\xgboost\\xgboost\\src\\learner.cc:738: \n",
      "Parameters: { \"use_label_encoder\" } are not used.\n",
      "\n",
      "  bst.update(dtrain, iteration=i, fobj=obj)\n"
     ]
    }
   ],
   "source": [
    "import pandas as pd\n",
    "import numpy as np\n",
    "import joblib\n",
    "from xgboost import XGBRegressor, XGBClassifier\n",
    "from sklearn.model_selection import train_test_split\n",
    "from sklearn.preprocessing import StandardScaler\n",
    "\n",
    "# ✅ STEP 1: Use your in-memory cleaned dataframe (replace with your actual df if needed)\n",
    "# Assuming df_cleaned is your final cleaned dataframe after preprocessing\n",
    "df = df_cleaned.copy()  # use df_cleaned or whatever your final dataframe variable is\n",
    "\n",
    "# ✅ STEP 2: Feature Engineering (add these if not already in df)\n",
    "df['item_year'] = df['item_date'].dt.year\n",
    "df['item_month'] = df['item_date'].dt.month\n",
    "df['item_dayofweek'] = df['item_date'].dt.dayofweek\n",
    "df['delivery_year'] = df['delivery date'].dt.year\n",
    "df['delivery_month'] = df['delivery date'].dt.month\n",
    "df['delivery_dayofweek'] = df['delivery date'].dt.dayofweek\n",
    "df['delivery_lead_time'] = (df['delivery date'] - df['item_date']).dt.days\n",
    "df.drop(columns=['item_date', 'delivery date'], inplace=True)\n",
    "\n",
    "# One-hot encode\n",
    "df = pd.get_dummies(df, columns=['status', 'item type'], drop_first=True)\n",
    "\n",
    "# Drop id/material_ref\n",
    "df.drop(columns=['id', 'material_ref'], inplace=True)\n",
    "\n",
    "# ✅ STEP 3: Log transformation for skewed columns\n",
    "from scipy.stats import skew\n",
    "skewed = df.select_dtypes(include=['float64', 'int64']).apply(lambda x: skew(x.dropna()))\n",
    "high_skew = skewed[skewed > 1].index\n",
    "for col in high_skew:\n",
    "    df[col] = np.log1p(df[col] - df[col].min() + 1 if (df[col] <= 0).any() else df[col])\n",
    "\n",
    "# ✅ STEP 4: Scale the data\n",
    "scaler = StandardScaler()\n",
    "df_scaled = pd.DataFrame(scaler.fit_transform(df), columns=df.columns)\n",
    "\n",
    "# ✅ STEP 5: Split & Train Regression\n",
    "X_reg = df_scaled.drop('selling_price', axis=1)\n",
    "y_reg = df['selling_price']  # original (not scaled)\n",
    "X_train_r, _, y_train_r, _ = train_test_split(X_reg, y_reg, random_state=42)\n",
    "\n",
    "reg_model = XGBRegressor(random_state=42)\n",
    "reg_model.fit(X_train_r, y_train_r)\n",
    "\n",
    "# ✅ STEP 6: Split & Train Classification\n",
    "X_clf = df_scaled.drop('status_Won', axis=1)\n",
    "y_clf = df['status_Won']\n",
    "X_train_c, _, y_train_c, _ = train_test_split(X_clf, y_clf, random_state=42)\n",
    "\n",
    "clf_model = XGBClassifier(random_state=42, use_label_encoder=False, eval_metric='logloss')\n",
    "clf_model.fit(X_train_c, y_train_c)\n",
    "\n",
    "# ✅ STEP 7: Save all models (in current environment!)\n",
    "joblib.dump(scaler, \"scaler.pkl\")\n",
    "joblib.dump(reg_model, \"reg_model.pkl\")\n",
    "joblib.dump(clf_model, \"clf_model.pkl\")\n",
    "\n",
    "print(\"✅ All models and scaler saved in Python 3.8 environment ✅\")\n"
   ]
  },
  {
   "cell_type": "code",
   "execution_count": null,
   "id": "4e58fc70",
   "metadata": {},
   "outputs": [],
   "source": [
    "with open(\"expected_columns.txt\", \"w\") as f:\n",
    "    for col in df_scaled.columns:\n",
    "        f.write(col + \"\\n\")\n"
   ]
  },
  {
   "cell_type": "code",
   "execution_count": null,
   "id": "a7ffb3c9",
   "metadata": {},
   "outputs": [
    {
     "name": "stdout",
     "output_type": "stream",
     "text": [
      "['quantity tons' 'customer' 'country' 'application' 'thickness' 'width'\n",
      " 'product_ref' 'item_year' 'item_month' 'item_dayofweek' 'delivery_year'\n",
      " 'delivery_month' 'delivery_dayofweek' 'delivery_lead_time' 'status_Lost'\n",
      " 'status_Not lost for AM' 'status_Offerable' 'status_Offered'\n",
      " 'status_Revised' 'status_To be approved' 'status_Won' 'status_Wonderful'\n",
      " 'item type_Others' 'item type_PL' 'item type_S' 'item type_SLAWR'\n",
      " 'item type_W' 'item type_WI']\n",
      "✅ expected_columns.txt regenerated.\n"
     ]
    }
   ],
   "source": [
    "import joblib\n",
    "\n",
    "reg_model = joblib.load(\"reg_model.pkl\")\n",
    "\n",
    "# Access feature names (XGBoost 1.6+ retains this)\n",
    "try:\n",
    "    print(reg_model.feature_names_in_)\n",
    "    with open(\"expected_columns.txt\", \"w\") as f:\n",
    "        for col in reg_model.feature_names_in_:\n",
    "            f.write(col + \"\\n\")\n",
    "    print(\"✅ expected_columns.txt regenerated.\")\n",
    "except:\n",
    "    print(\"⚠️ Model does not contain feature names. Use the training DataFrame instead.\")\n"
   ]
  },
  {
   "cell_type": "code",
   "execution_count": null,
   "id": "39734c83",
   "metadata": {},
   "outputs": [
    {
     "name": "stdout",
     "output_type": "stream",
     "text": [
      "✅ expected_columns.txt regenerated without 'selling_price'\n"
     ]
    }
   ],
   "source": [
    "# Drop 'selling_price' if still in df_scaled\n",
    "cols_to_save = [col for col in df_scaled.columns if col != 'selling_price']\n",
    "\n",
    "# Save correct expected columns\n",
    "with open(\"expected_columns.txt\", \"w\") as f:\n",
    "    for col in cols_to_save:\n",
    "        f.write(col + \"\\n\")\n",
    "\n",
    "print(\"✅ expected_columns.txt regenerated without 'selling_price'\")\n"
   ]
  }
 ],
 "metadata": {
  "kernelspec": {
   "display_name": "Python 3",
   "language": "python",
   "name": "python3"
  },
  "language_info": {
   "codemirror_mode": {
    "name": "ipython",
    "version": 3
   },
   "file_extension": ".py",
   "mimetype": "text/x-python",
   "name": "python",
   "nbconvert_exporter": "python",
   "pygments_lexer": "ipython3",
   "version": "3.8.10"
  }
 },
 "nbformat": 4,
 "nbformat_minor": 5
}
